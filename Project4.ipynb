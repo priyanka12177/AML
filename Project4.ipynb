{
  "nbformat": 4,
  "nbformat_minor": 0,
  "metadata": {
    "colab": {
      "name": "Project4.ipynb",
      "provenance": [],
      "collapsed_sections": [],
      "authorship_tag": "ABX9TyMLd8g2JJ4u2wJkzCWZI8Ds",
      "include_colab_link": true
    },
    "kernelspec": {
      "name": "python3",
      "display_name": "Python 3"
    },
    "language_info": {
      "name": "python"
    }
  },
  "cells": [
    {
      "cell_type": "markdown",
      "metadata": {
        "id": "view-in-github",
        "colab_type": "text"
      },
      "source": [
        "<a href=\"https://colab.research.google.com/github/priyanka12177/AML/blob/Project4/Project4.ipynb\" target=\"_parent\"><img src=\"https://colab.research.google.com/assets/colab-badge.svg\" alt=\"Open In Colab\"/></a>"
      ]
    },
    {
      "cell_type": "code",
      "metadata": {
        "id": "cqebUq3fzZSi"
      },
      "source": [
        "# Pandas is mainly used for data analysis. Pandas allows importing data from various file formats \n",
        "# such as comma-separated values, JSON, SQL, Microsoft Excel. \n",
        "# Pandas allows various data manipulation operations such as merging, reshaping, selecting, \n",
        "# as well as data cleaning, and data wrangling features.\n",
        "# NumPy has support for large, multi-dimensional arrays and matrices, along with \n",
        "# a large collection of high-level mathematical functions to operate on these arrays.\n",
        "# Import matplotlib  to visualize the data\n",
        "import matplotlib.pyplot as plt\n",
        "import numpy as np\n",
        "import pandas as pd"
      ],
      "execution_count": 1,
      "outputs": []
    },
    {
      "cell_type": "code",
      "metadata": {
        "id": "U1Lfhu7Qzn9d"
      },
      "source": [
        "#Read  file from github into a dataframe\n",
        "#customer satisfaction \n",
        "df_test = pd.read_csv('https://raw.githubusercontent.com/priyanka12177/AML/Project4/Test.csv')\n",
        "df_train = pd.read_csv('https://raw.githubusercontent.com/priyanka12177/AML/Project4/Train.csv')"
      ],
      "execution_count": 2,
      "outputs": []
    },
    {
      "cell_type": "code",
      "metadata": {
        "id": "qIlJnnZRzn-h",
        "colab": {
          "base_uri": "https://localhost:8080/",
          "height": 202
        },
        "outputId": "2db8de48-c945-46ad-d5e7-2a6b2acc0069"
      },
      "source": [
        "#head function is used to get the first 5 rows which displays the columns and data\n",
        "df_train.head()"
      ],
      "execution_count": 3,
      "outputs": [
        {
          "output_type": "execute_result",
          "data": {
            "text/html": [
              "<div>\n",
              "<style scoped>\n",
              "    .dataframe tbody tr th:only-of-type {\n",
              "        vertical-align: middle;\n",
              "    }\n",
              "\n",
              "    .dataframe tbody tr th {\n",
              "        vertical-align: top;\n",
              "    }\n",
              "\n",
              "    .dataframe thead th {\n",
              "        text-align: right;\n",
              "    }\n",
              "</style>\n",
              "<table border=\"1\" class=\"dataframe\">\n",
              "  <thead>\n",
              "    <tr style=\"text-align: right;\">\n",
              "      <th></th>\n",
              "      <th>ID</th>\n",
              "      <th>Gender</th>\n",
              "      <th>Ever_Married</th>\n",
              "      <th>Age</th>\n",
              "      <th>Graduated</th>\n",
              "      <th>Profession</th>\n",
              "      <th>Work_Experience</th>\n",
              "      <th>Spending_Score</th>\n",
              "      <th>Family_Size</th>\n",
              "      <th>Var_1</th>\n",
              "      <th>Segmentation</th>\n",
              "    </tr>\n",
              "  </thead>\n",
              "  <tbody>\n",
              "    <tr>\n",
              "      <th>0</th>\n",
              "      <td>462809</td>\n",
              "      <td>Male</td>\n",
              "      <td>No</td>\n",
              "      <td>22</td>\n",
              "      <td>No</td>\n",
              "      <td>Healthcare</td>\n",
              "      <td>1.0</td>\n",
              "      <td>Low</td>\n",
              "      <td>4.0</td>\n",
              "      <td>Cat_4</td>\n",
              "      <td>D</td>\n",
              "    </tr>\n",
              "    <tr>\n",
              "      <th>1</th>\n",
              "      <td>462643</td>\n",
              "      <td>Female</td>\n",
              "      <td>Yes</td>\n",
              "      <td>38</td>\n",
              "      <td>Yes</td>\n",
              "      <td>Engineer</td>\n",
              "      <td>NaN</td>\n",
              "      <td>Average</td>\n",
              "      <td>3.0</td>\n",
              "      <td>Cat_4</td>\n",
              "      <td>A</td>\n",
              "    </tr>\n",
              "    <tr>\n",
              "      <th>2</th>\n",
              "      <td>466315</td>\n",
              "      <td>Female</td>\n",
              "      <td>Yes</td>\n",
              "      <td>67</td>\n",
              "      <td>Yes</td>\n",
              "      <td>Engineer</td>\n",
              "      <td>1.0</td>\n",
              "      <td>Low</td>\n",
              "      <td>1.0</td>\n",
              "      <td>Cat_6</td>\n",
              "      <td>B</td>\n",
              "    </tr>\n",
              "    <tr>\n",
              "      <th>3</th>\n",
              "      <td>461735</td>\n",
              "      <td>Male</td>\n",
              "      <td>Yes</td>\n",
              "      <td>67</td>\n",
              "      <td>Yes</td>\n",
              "      <td>Lawyer</td>\n",
              "      <td>0.0</td>\n",
              "      <td>High</td>\n",
              "      <td>2.0</td>\n",
              "      <td>Cat_6</td>\n",
              "      <td>B</td>\n",
              "    </tr>\n",
              "    <tr>\n",
              "      <th>4</th>\n",
              "      <td>462669</td>\n",
              "      <td>Female</td>\n",
              "      <td>Yes</td>\n",
              "      <td>40</td>\n",
              "      <td>Yes</td>\n",
              "      <td>Entertainment</td>\n",
              "      <td>NaN</td>\n",
              "      <td>High</td>\n",
              "      <td>6.0</td>\n",
              "      <td>Cat_6</td>\n",
              "      <td>A</td>\n",
              "    </tr>\n",
              "  </tbody>\n",
              "</table>\n",
              "</div>"
            ],
            "text/plain": [
              "       ID  Gender Ever_Married  ...  Family_Size  Var_1 Segmentation\n",
              "0  462809    Male           No  ...          4.0  Cat_4            D\n",
              "1  462643  Female          Yes  ...          3.0  Cat_4            A\n",
              "2  466315  Female          Yes  ...          1.0  Cat_6            B\n",
              "3  461735    Male          Yes  ...          2.0  Cat_6            B\n",
              "4  462669  Female          Yes  ...          6.0  Cat_6            A\n",
              "\n",
              "[5 rows x 11 columns]"
            ]
          },
          "metadata": {
            "tags": []
          },
          "execution_count": 3
        }
      ]
    },
    {
      "cell_type": "code",
      "metadata": {
        "id": "wB8AFKNfzoDy",
        "colab": {
          "base_uri": "https://localhost:8080/",
          "height": 202
        },
        "outputId": "b466b02e-6c97-493f-e555-2cbac1991877"
      },
      "source": [
        "#head function is used to get the first 5 rows which displays the columns and data\n",
        "df_test.head()"
      ],
      "execution_count": 4,
      "outputs": [
        {
          "output_type": "execute_result",
          "data": {
            "text/html": [
              "<div>\n",
              "<style scoped>\n",
              "    .dataframe tbody tr th:only-of-type {\n",
              "        vertical-align: middle;\n",
              "    }\n",
              "\n",
              "    .dataframe tbody tr th {\n",
              "        vertical-align: top;\n",
              "    }\n",
              "\n",
              "    .dataframe thead th {\n",
              "        text-align: right;\n",
              "    }\n",
              "</style>\n",
              "<table border=\"1\" class=\"dataframe\">\n",
              "  <thead>\n",
              "    <tr style=\"text-align: right;\">\n",
              "      <th></th>\n",
              "      <th>ID</th>\n",
              "      <th>Gender</th>\n",
              "      <th>Ever_Married</th>\n",
              "      <th>Age</th>\n",
              "      <th>Graduated</th>\n",
              "      <th>Profession</th>\n",
              "      <th>Work_Experience</th>\n",
              "      <th>Spending_Score</th>\n",
              "      <th>Family_Size</th>\n",
              "      <th>Var_1</th>\n",
              "      <th>Segmentation</th>\n",
              "    </tr>\n",
              "  </thead>\n",
              "  <tbody>\n",
              "    <tr>\n",
              "      <th>0</th>\n",
              "      <td>458989</td>\n",
              "      <td>Female</td>\n",
              "      <td>Yes</td>\n",
              "      <td>36</td>\n",
              "      <td>Yes</td>\n",
              "      <td>Engineer</td>\n",
              "      <td>0.0</td>\n",
              "      <td>Low</td>\n",
              "      <td>1.0</td>\n",
              "      <td>Cat_6</td>\n",
              "      <td>B</td>\n",
              "    </tr>\n",
              "    <tr>\n",
              "      <th>1</th>\n",
              "      <td>458994</td>\n",
              "      <td>Male</td>\n",
              "      <td>Yes</td>\n",
              "      <td>37</td>\n",
              "      <td>Yes</td>\n",
              "      <td>Healthcare</td>\n",
              "      <td>8.0</td>\n",
              "      <td>Average</td>\n",
              "      <td>4.0</td>\n",
              "      <td>Cat_6</td>\n",
              "      <td>A</td>\n",
              "    </tr>\n",
              "    <tr>\n",
              "      <th>2</th>\n",
              "      <td>458996</td>\n",
              "      <td>Female</td>\n",
              "      <td>Yes</td>\n",
              "      <td>69</td>\n",
              "      <td>No</td>\n",
              "      <td>NaN</td>\n",
              "      <td>0.0</td>\n",
              "      <td>Low</td>\n",
              "      <td>1.0</td>\n",
              "      <td>Cat_6</td>\n",
              "      <td>A</td>\n",
              "    </tr>\n",
              "    <tr>\n",
              "      <th>3</th>\n",
              "      <td>459000</td>\n",
              "      <td>Male</td>\n",
              "      <td>Yes</td>\n",
              "      <td>59</td>\n",
              "      <td>No</td>\n",
              "      <td>Executive</td>\n",
              "      <td>11.0</td>\n",
              "      <td>High</td>\n",
              "      <td>2.0</td>\n",
              "      <td>Cat_6</td>\n",
              "      <td>B</td>\n",
              "    </tr>\n",
              "    <tr>\n",
              "      <th>4</th>\n",
              "      <td>459001</td>\n",
              "      <td>Female</td>\n",
              "      <td>No</td>\n",
              "      <td>19</td>\n",
              "      <td>No</td>\n",
              "      <td>Marketing</td>\n",
              "      <td>NaN</td>\n",
              "      <td>Low</td>\n",
              "      <td>4.0</td>\n",
              "      <td>Cat_6</td>\n",
              "      <td>A</td>\n",
              "    </tr>\n",
              "  </tbody>\n",
              "</table>\n",
              "</div>"
            ],
            "text/plain": [
              "       ID  Gender Ever_Married  ...  Family_Size  Var_1 Segmentation\n",
              "0  458989  Female          Yes  ...          1.0  Cat_6            B\n",
              "1  458994    Male          Yes  ...          4.0  Cat_6            A\n",
              "2  458996  Female          Yes  ...          1.0  Cat_6            A\n",
              "3  459000    Male          Yes  ...          2.0  Cat_6            B\n",
              "4  459001  Female           No  ...          4.0  Cat_6            A\n",
              "\n",
              "[5 rows x 11 columns]"
            ]
          },
          "metadata": {
            "tags": []
          },
          "execution_count": 4
        }
      ]
    },
    {
      "cell_type": "code",
      "metadata": {
        "id": "WKE1qhhnzoPx",
        "colab": {
          "base_uri": "https://localhost:8080/"
        },
        "outputId": "523050d7-4590-4628-de82-fdfd94b7e496"
      },
      "source": [
        "# concatenating two dataframes to get union train and test data\n",
        "df = pd.concat ([df_train, df_test])\n",
        "# Examine the  dataset sizes\n",
        "df.shape\n"
      ],
      "execution_count": 5,
      "outputs": [
        {
          "output_type": "execute_result",
          "data": {
            "text/plain": [
              "(10695, 11)"
            ]
          },
          "metadata": {
            "tags": []
          },
          "execution_count": 5
        }
      ]
    },
    {
      "cell_type": "code",
      "metadata": {
        "colab": {
          "base_uri": "https://localhost:8080/"
        },
        "id": "tkGmXtx14zyn",
        "outputId": "37ceba0a-3e20-4eee-c093-3676baed0c38"
      },
      "source": [
        "# checking the target column distribution\n",
        "df['Segmentation'].value_counts()"
      ],
      "execution_count": 6,
      "outputs": [
        {
          "output_type": "execute_result",
          "data": {
            "text/plain": [
              "D    3027\n",
              "A    2818\n",
              "C    2442\n",
              "B    2408\n",
              "Name: Segmentation, dtype: int64"
            ]
          },
          "metadata": {
            "tags": []
          },
          "execution_count": 6
        }
      ]
    },
    {
      "cell_type": "code",
      "metadata": {
        "id": "oLlrvoYBBxrs"
      },
      "source": [
        "# ENcoding the target column to covert to numerical\n",
        "# importing the ordinalencoder function from sklearn\n",
        "from sklearn.preprocessing import OrdinalEncoder\n",
        "enc = OrdinalEncoder()\n",
        "df[[\"Segmentation\"]] = enc.fit_transform(df[[\"Segmentation\"]])"
      ],
      "execution_count": 7,
      "outputs": []
    },
    {
      "cell_type": "code",
      "metadata": {
        "id": "pHkXD_oL2IAJ",
        "colab": {
          "base_uri": "https://localhost:8080/",
          "height": 345
        },
        "outputId": "4a3f9dfb-300a-4b5d-8755-604a7d38f1cc"
      },
      "source": [
        "# perfoming pair-wise Pearson correlation of all the columns in the dataframe \n",
        "import seaborn as sns\n",
        "#heat map of correlation values \n",
        "g = sns.heatmap(df.corr(),\n",
        "                annot=True, cmap = \"cool\")\n",
        "# Target has highest correlation with family size"
      ],
      "execution_count": 8,
      "outputs": [
        {
          "output_type": "display_data",
          "data": {
            "image/png": "[encoded data removed]",
            "text/plain": [
              "<Figure size 432x288 with 2 Axes>"
            ]
          },
          "metadata": {
            "tags": [],
            "needs_background": "light"
          }
        }
      ]
    },
    {
      "cell_type": "code",
      "metadata": {
        "colab": {
          "base_uri": "https://localhost:8080/"
        },
        "id": "BZawx_VgDLHC",
        "outputId": "83645805-49ee-4d7d-be86-bf902b946f34"
      },
      "source": [
        "#checking missing values for all the columns in the dataframe\n",
        "df.isnull().sum().sort_values( ascending=False)"
      ],
      "execution_count": 19,
      "outputs": [
        {
          "output_type": "execute_result",
          "data": {
            "text/plain": [
              "Work_Experience    1098\n",
              "Family_Size         448\n",
              "Ever_Married        190\n",
              "Profession          162\n",
              "Var_1               108\n",
              "Graduated           102\n",
              "Segmentation          0\n",
              "Spending_Score        0\n",
              "Age                   0\n",
              "Gender                0\n",
              "ID                    0\n",
              "dtype: int64"
            ]
          },
          "metadata": {
            "tags": []
          },
          "execution_count": 19
        }
      ]
    },
    {
      "cell_type": "code",
      "metadata": {
        "id": "7Bx_IfdyXUWp"
      },
      "source": [
        "##Assigning input variables to X_train by excluding target column  and ID\n",
        "X_train = df.drop(columns=['ID','Segmentation'])\n",
        "##Assigning target variables to y_train\n",
        "y_train = df.Segmentation"
      ],
      "execution_count": 10,
      "outputs": []
    },
    {
      "cell_type": "code",
      "metadata": {
        "id": "IBnGClVJ2ITd"
      },
      "source": [
        "# importing pipeline, imputing, preprocessing functions from sklearn package for building pipeline\n",
        "from sklearn.compose import ColumnTransformer\n",
        "from sklearn.pipeline import Pipeline, make_pipeline\n",
        "from sklearn.impute import SimpleImputer, KNNImputer\n",
        "from sklearn.preprocessing import OneHotEncoder, StandardScaler, OrdinalEncoder, MinMaxScaler\n",
        "\n",
        "\n",
        "########## First create a pipeline for the categoric attributes\n",
        "# assigning the categorical values\n",
        "cat_cols = ['Gender', 'Ever_Married', 'Graduated','Profession','Spending_Score','Var_1']\n",
        "\n",
        "#building pipeline with imputer as most_frequent\n",
        "cat_transformer = Pipeline(steps=[\n",
        "    # strategies are mean, median, most_frequent, etc.\n",
        "    ('imputer', SimpleImputer(strategy='most_frequent')),\n",
        "\n",
        "    # In ordinal encoding, each unique category value is assigned an integer value.\n",
        "    ('ordinal', OrdinalEncoder())\n",
        "])\n",
        "\n",
        "\n",
        "\n",
        "\n",
        "########## Second create a pipeline for the numeric attributes\n",
        "# assigning the numeric variables\n",
        "num_cols = ['Age', 'Work_Experience','Family_Size']\n",
        "\n",
        "num_transformer = Pipeline(steps=[\n",
        "    # Number of neighboring samples to use for K-nearest neighor imputation\n",
        "    ('imputer', KNNImputer(n_neighbors=5)),\n",
        "\n",
        "    # StandardScaler makes mean = 0 and scales the data to unit variance \n",
        "    ('scaler', StandardScaler())\n",
        "])\n",
        "\n",
        "\n",
        "\n",
        "########## Finally, apply column transformations\n",
        "\n",
        "preprocessor = ColumnTransformer(\n",
        "    transformers=[\n",
        "        ('num', num_transformer, num_cols),\n",
        "        ('cat', cat_transformer, cat_cols)\n",
        "    ])"
      ],
      "execution_count": 11,
      "outputs": []
    },
    {
      "cell_type": "code",
      "metadata": {
        "id": "wchhM_FrXc5H"
      },
      "source": [
        "# importing the Decisiontree and SVC from sklearn\n",
        "from sklearn.tree import DecisionTreeClassifier\n",
        "from sklearn.svm import SVC\n",
        "from sklearn.model_selection import train_test_split, cross_val_score, GridSearchCV\n",
        "\n",
        "########## SVC with A linear kernel classifier\n",
        "linear_svc_clf = Pipeline(steps=[('preprocessor', preprocessor),('classifier', SVC(kernel='linear'))])\n",
        "\n",
        "linear_svc_clf_score = cross_val_score(linear_svc_clf, X_train, y_train, cv=3, scoring=\"accuracy\").mean()\n",
        "\n",
        "########## SVC with a RBF kernel classifier\n",
        "rbf_svc_clf = Pipeline(steps=[('preprocessor', preprocessor), ('classifier', SVC(kernel='rbf'))])\n",
        "\n",
        "# applying the cross val score function\n",
        "rbf_svc_clf_score = cross_val_score(rbf_svc_clf, X_train, y_train, cv=3, scoring=\"accuracy\").mean()\n",
        "\n",
        "########## SVC with a poly kernel classifier\n",
        "poly_svc_clf = Pipeline(steps=[('preprocessor', preprocessor), ('classifier', SVC(kernel='poly'))])\n",
        "\n",
        "# applying the cross val score function\n",
        "poly_svc_clf_score = cross_val_score(poly_svc_clf, X_train, y_train, cv=3, scoring=\"accuracy\").mean()\n",
        "\n",
        "\n",
        "########## A decicion tree with gini as criteria\n",
        "gini_dt_clf = Pipeline(steps=[('preprocessor', preprocessor),\n",
        "                      ('classifier', DecisionTreeClassifier(criterion='gini'))])\n",
        "\n",
        "# applying the cross val score function\n",
        "gini_dt_score = cross_val_score(gini_dt_clf, X_train, y_train, cv=3, scoring=\"accuracy\").mean()\n",
        "\n",
        "\n",
        "########## A decicion tree with entropy as criteria\n",
        "entropy_dt_clf = Pipeline(steps=[('preprocessor', preprocessor),\n",
        "                      ('classifier', DecisionTreeClassifier(criterion='entropy'))])\n",
        "\n",
        "# applying the cross val score function\n",
        "entropy_dt_score = cross_val_score(entropy_dt_clf, X_train, y_train, cv=3, scoring=\"accuracy\").mean()\n",
        "\n",
        "\n"
      ],
      "execution_count": 12,
      "outputs": []
    },
    {
      "cell_type": "code",
      "metadata": {
        "id": "rtaDePSgtq-2",
        "colab": {
          "base_uri": "https://localhost:8080/",
          "height": 281
        },
        "outputId": "87d2123b-01c8-47b4-e823-431c64a969c3"
      },
      "source": [
        "# Summarize the findings for all models\n",
        "labels = ['SVC (Linear)', 'SVC (Poly)','SVC (RBF)', 'DT (Gini)', 'DT (Entropy)']\n",
        "training_scores = [linear_svc_clf_score,rbf_svc_clf_score,poly_svc_clf_score, gini_dt_score, entropy_dt_score]\n",
        "\n",
        "x = np.arange(len(labels))  # the label locations\n",
        "width = 0.35  # the width of the bars\n",
        "\n",
        "fig, ax = plt.subplots()\n",
        "rects1 = ax.bar(x - width/2, training_scores, width, label='CV=3', color='orange')\n",
        "\n",
        "# Add some text for labels, title and custom x-axis tick labels, etc.\n",
        "ax.set_ylabel('Accuracy')\n",
        "ax.set_xticks(x)\n",
        "ax.set_ylim(0,1)\n",
        "ax.set_xticklabels(labels)\n",
        "ax.legend(bbox_to_anchor = (1.3, 1.0), loc='upper right')\n",
        "for index,data in enumerate(training_scores):\n",
        "    plt.text(x=index , y =data , s=round(data,2) , fontdict=dict(fontsize=15))\n",
        "plt.title('Model Comparisons')\n",
        "plt.show()"
      ],
      "execution_count": 14,
      "outputs": [
        {
          "output_type": "display_data",
          "data": {
            "image/png": "[encoded data removed]",
            "text/plain": [
              "<Figure size 432x288 with 1 Axes>"
            ]
          },
          "metadata": {
            "tags": [],
            "needs_background": "light"
          }
        }
      ]
    },
    {
      "cell_type": "code",
      "metadata": {
        "id": "XA33HepytrAh",
        "colab": {
          "base_uri": "https://localhost:8080/",
          "height": 895
        },
        "outputId": "7c2ade7c-d331-4e81-aeea-d77ad074c26f"
      },
      "source": [
        "# Convert the decision tree model to text and graph\n",
        "\n",
        "from matplotlib import pyplot\n",
        "from sklearn.tree import export_text, export_graphviz\n",
        "import graphviz\n",
        "\n",
        "# we need to refit the DT model that is part of a composite pipe before exporting it as text\n",
        "entropy_dt_clf['classifier'].fit(preprocessor.fit_transform(X_train), y_train)\n",
        "\n",
        "\n",
        "# display the induced decision tree as a series of logical rules\n",
        "text_representation = export_text(entropy_dt_clf['classifier'],\n",
        "                                  feature_names=['Gender', 'Ever_Married', 'Age', 'Graduated', 'Profession','Work_Experience'\n",
        "                                  ,'Spending_Score','Family_Size','Var_1'],\n",
        "                                  max_depth=2)\n",
        "print(text_representation)\n",
        "\n",
        "\n",
        "# draw the induced decision tree\n",
        "dot_data = export_graphviz(entropy_dt_clf['classifier'],\n",
        "                                  max_depth=2,\n",
        "                                  feature_names=['Gender', 'Ever_Married', 'Age', 'Graduated', 'Profession','Work_Experience'\n",
        "                                  ,'Spending_Score','Family_Size','Var_1'],\n",
        "                                  filled=True)\n",
        "\n",
        "graph = graphviz.Source(dot_data, format=\"png\") \n",
        "graph"
      ],
      "execution_count": 15,
      "outputs": [
        {
          "output_type": "stream",
          "text": [
            "|--- Gender <= -0.57\n",
            "|   |--- Gender <= -1.16\n",
            "|   |   |--- Spending_Score <= 4.50\n",
            "|   |   |   |--- truncated branch of depth 15\n",
            "|   |   |--- Spending_Score >  4.50\n",
            "|   |   |   |--- truncated branch of depth 16\n",
            "|   |--- Gender >  -1.16\n",
            "|   |   |--- Spending_Score <= 3.50\n",
            "|   |   |   |--- truncated branch of depth 23\n",
            "|   |   |--- Spending_Score >  3.50\n",
            "|   |   |   |--- truncated branch of depth 22\n",
            "|--- Gender >  -0.57\n",
            "|   |--- Family_Size <= 1.50\n",
            "|   |   |--- Work_Experience <= 0.50\n",
            "|   |   |   |--- truncated branch of depth 23\n",
            "|   |   |--- Work_Experience >  0.50\n",
            "|   |   |   |--- truncated branch of depth 28\n",
            "|   |--- Family_Size >  1.50\n",
            "|   |   |--- Spending_Score <= 0.50\n",
            "|   |   |   |--- truncated branch of depth 22\n",
            "|   |   |--- Spending_Score >  0.50\n",
            "|   |   |   |--- truncated branch of depth 22\n",
            "\n"
          ],
          "name": "stdout"
        },
        {
          "output_type": "execute_result",
          "data": {
            "text/plain": [
              "<graphviz.files.Source at 0x7f7432e67d90>"
            ],
            "image/svg+xml": "<?xml version=\"1.0\" encoding=\"UTF-8\" standalone=\"no\"?>\n<!DOCTYPE svg PUBLIC \"-//W3C//DTD SVG 1.1//EN\"\n \"http://www.w3.org/Graphics/SVG/1.1/DTD/svg11.dtd\">\n<!-- Generated by graphviz version 2.40.1 (20161225.0304)\n -->\n<!-- Title: Tree Pages: 1 -->\n<svg width=\"810pt\" height=\"356pt\"\n viewBox=\"0.00 0.00 810.00 356.00\" xmlns=\"http://www.w3.org/2000/svg\" xmlns:xlink=\"http://www.w3.org/1999/xlink\">\n<g id=\"graph0\" class=\"graph\" transform=\"scale(1 1) rotate(0) translate(4 352)\">\n<title>Tree</title>\n<polygon fill=\"#ffffff\" stroke=\"transparent\" points=\"-4,4 -4,-352 806,-352 806,4 -4,4\"/>\n<!-- 0 -->\n<g id=\"node1\" class=\"node\">\n<title>0</title>\n<polygon fill=\"#fefafe\" stroke=\"#000000\" points=\"491.5,-348 276.5,-348 276.5,-280 491.5,-280 491.5,-348\"/>\n<text text-anchor=\"middle\" x=\"384\" y=\"-332.8\" font-family=\"Times,serif\" font-size=\"14.00\" fill=\"#000000\">Gender &lt;= &#45;0.567</text>\n<text text-anchor=\"middle\" x=\"384\" y=\"-317.8\" font-family=\"Times,serif\" font-size=\"14.00\" fill=\"#000000\">entropy = 1.993</text>\n<text text-anchor=\"middle\" x=\"384\" y=\"-302.8\" font-family=\"Times,serif\" font-size=\"14.00\" fill=\"#000000\">samples = 10695</text>\n<text text-anchor=\"middle\" x=\"384\" y=\"-287.8\" font-family=\"Times,serif\" font-size=\"14.00\" fill=\"#000000\">value = [2818, 2408, 2442, 3027]</text>\n</g>\n<!-- 1 -->\n<g id=\"node2\" class=\"node\">\n<title>1</title>\n<polygon fill=\"#eeacf4\" stroke=\"#000000\" points=\"369,-244 177,-244 177,-176 369,-176 369,-244\"/>\n<text text-anchor=\"middle\" x=\"273\" y=\"-228.8\" font-family=\"Times,serif\" font-size=\"14.00\" fill=\"#000000\">Gender &lt;= &#45;1.163</text>\n<text text-anchor=\"middle\" x=\"273\" y=\"-213.8\" font-family=\"Times,serif\" font-size=\"14.00\" fill=\"#000000\">entropy = 1.661</text>\n<text text-anchor=\"middle\" x=\"273\" y=\"-198.8\" font-family=\"Times,serif\" font-size=\"14.00\" fill=\"#000000\">samples = 3561</text>\n<text text-anchor=\"middle\" x=\"273\" y=\"-183.8\" font-family=\"Times,serif\" font-size=\"14.00\" fill=\"#000000\">value = [817, 406, 376, 1962]</text>\n</g>\n<!-- 0&#45;&gt;1 -->\n<g id=\"edge1\" class=\"edge\">\n<title>0&#45;&gt;1</title>\n<path fill=\"none\" stroke=\"#000000\" d=\"M347.6544,-279.9465C337.7841,-270.6986 326.9925,-260.5876 316.759,-250.9994\"/>\n<polygon fill=\"#000000\" stroke=\"#000000\" points=\"319.1177,-248.4131 309.4272,-244.13 314.3316,-253.5214 319.1177,-248.4131\"/>\n<text text-anchor=\"middle\" x=\"310.2407\" y=\"-265.4168\" font-family=\"Times,serif\" font-size=\"14.00\" fill=\"#000000\">True</text>\n</g>\n<!-- 3532 -->\n<g id=\"node9\" class=\"node\">\n<title>3532</title>\n<polygon fill=\"#fdfeff\" stroke=\"#000000\" points=\"602.5,-244 387.5,-244 387.5,-176 602.5,-176 602.5,-244\"/>\n<text text-anchor=\"middle\" x=\"495\" y=\"-228.8\" font-family=\"Times,serif\" font-size=\"14.00\" fill=\"#000000\">Family_Size &lt;= 1.5</text>\n<text text-anchor=\"middle\" x=\"495\" y=\"-213.8\" font-family=\"Times,serif\" font-size=\"14.00\" fill=\"#000000\">entropy = 1.956</text>\n<text text-anchor=\"middle\" x=\"495\" y=\"-198.8\" font-family=\"Times,serif\" font-size=\"14.00\" fill=\"#000000\">samples = 7134</text>\n<text text-anchor=\"middle\" x=\"495\" y=\"-183.8\" font-family=\"Times,serif\" font-size=\"14.00\" fill=\"#000000\">value = [2001, 2002, 2066, 1065]</text>\n</g>\n<!-- 0&#45;&gt;3532 -->\n<g id=\"edge8\" class=\"edge\">\n<title>0&#45;&gt;3532</title>\n<path fill=\"none\" stroke=\"#000000\" d=\"M420.3456,-279.9465C430.2159,-270.6986 441.0075,-260.5876 451.241,-250.9994\"/>\n<polygon fill=\"#000000\" stroke=\"#000000\" points=\"453.6684,-253.5214 458.5728,-244.13 448.8823,-248.4131 453.6684,-253.5214\"/>\n<text text-anchor=\"middle\" x=\"457.7593\" y=\"-265.4168\" font-family=\"Times,serif\" font-size=\"14.00\" fill=\"#000000\">False</text>\n</g>\n<!-- 2 -->\n<g id=\"node3\" class=\"node\">\n<title>2</title>\n<polygon fill=\"#df61ea\" stroke=\"#000000\" points=\"162,-140 0,-140 0,-72 162,-72 162,-140\"/>\n<text text-anchor=\"middle\" x=\"81\" y=\"-124.8\" font-family=\"Times,serif\" font-size=\"14.00\" fill=\"#000000\">Spending_Score &lt;= 4.5</text>\n<text text-anchor=\"middle\" x=\"81\" y=\"-109.8\" font-family=\"Times,serif\" font-size=\"14.00\" fill=\"#000000\">entropy = 0.974</text>\n<text text-anchor=\"middle\" x=\"81\" y=\"-94.8\" font-family=\"Times,serif\" font-size=\"14.00\" fill=\"#000000\">samples = 1037</text>\n<text text-anchor=\"middle\" x=\"81\" y=\"-79.8\" font-family=\"Times,serif\" font-size=\"14.00\" fill=\"#000000\">value = [85, 56, 50, 846]</text>\n</g>\n<!-- 1&#45;&gt;2 -->\n<g id=\"edge2\" class=\"edge\">\n<title>1&#45;&gt;2</title>\n<path fill=\"none\" stroke=\"#000000\" d=\"M210.132,-175.9465C191.8158,-166.0252 171.6655,-155.1105 152.8408,-144.9138\"/>\n<polygon fill=\"#000000\" stroke=\"#000000\" points=\"154.4692,-141.8154 144.0092,-140.13 151.1351,-147.9704 154.4692,-141.8154\"/>\n</g>\n<!-- 681 -->\n<g id=\"node6\" class=\"node\">\n<title>681</title>\n<polygon fill=\"#f6d5f9\" stroke=\"#000000\" points=\"371.5,-140 180.5,-140 180.5,-72 371.5,-72 371.5,-140\"/>\n<text text-anchor=\"middle\" x=\"276\" y=\"-124.8\" font-family=\"Times,serif\" font-size=\"14.00\" fill=\"#000000\">Spending_Score &lt;= 3.5</text>\n<text text-anchor=\"middle\" x=\"276\" y=\"-109.8\" font-family=\"Times,serif\" font-size=\"14.00\" fill=\"#000000\">entropy = 1.815</text>\n<text text-anchor=\"middle\" x=\"276\" y=\"-94.8\" font-family=\"Times,serif\" font-size=\"14.00\" fill=\"#000000\">samples = 2524</text>\n<text text-anchor=\"middle\" x=\"276\" y=\"-79.8\" font-family=\"Times,serif\" font-size=\"14.00\" fill=\"#000000\">value = [732, 350, 326, 1116]</text>\n</g>\n<!-- 1&#45;&gt;681 -->\n<g id=\"edge5\" class=\"edge\">\n<title>1&#45;&gt;681</title>\n<path fill=\"none\" stroke=\"#000000\" d=\"M273.9823,-175.9465C274.218,-167.776 274.4731,-158.9318 274.7201,-150.3697\"/>\n<polygon fill=\"#000000\" stroke=\"#000000\" points=\"278.2256,-150.2268 275.0155,-140.13 271.2285,-150.0249 278.2256,-150.2268\"/>\n</g>\n<!-- 3 -->\n<g id=\"node4\" class=\"node\">\n<title>3</title>\n<polygon fill=\"#c0c0c0\" stroke=\"#000000\" points=\"72,-36 18,-36 18,0 72,0 72,-36\"/>\n<text text-anchor=\"middle\" x=\"45\" y=\"-14.3\" font-family=\"Times,serif\" font-size=\"14.00\" fill=\"#000000\">(...)</text>\n</g>\n<!-- 2&#45;&gt;3 -->\n<g id=\"edge3\" class=\"edge\">\n<title>2&#45;&gt;3</title>\n<path fill=\"none\" stroke=\"#000000\" d=\"M67.0815,-71.9769C63.4977,-63.2167 59.6862,-53.8995 56.2564,-45.5157\"/>\n<polygon fill=\"#000000\" stroke=\"#000000\" points=\"59.468,-44.1222 52.4422,-36.192 52.9891,-46.7727 59.468,-44.1222\"/>\n</g>\n<!-- 186 -->\n<g id=\"node5\" class=\"node\">\n<title>186</title>\n<polygon fill=\"#c0c0c0\" stroke=\"#000000\" points=\"144,-36 90,-36 90,0 144,0 144,-36\"/>\n<text text-anchor=\"middle\" x=\"117\" y=\"-14.3\" font-family=\"Times,serif\" font-size=\"14.00\" fill=\"#000000\">(...)</text>\n</g>\n<!-- 2&#45;&gt;186 -->\n<g id=\"edge4\" class=\"edge\">\n<title>2&#45;&gt;186</title>\n<path fill=\"none\" stroke=\"#000000\" d=\"M94.9185,-71.9769C98.5023,-63.2167 102.3138,-53.8995 105.7436,-45.5157\"/>\n<polygon fill=\"#000000\" stroke=\"#000000\" points=\"109.0109,-46.7727 109.5578,-36.192 102.532,-44.1222 109.0109,-46.7727\"/>\n</g>\n<!-- 682 -->\n<g id=\"node7\" class=\"node\">\n<title>682</title>\n<polygon fill=\"#c0c0c0\" stroke=\"#000000\" points=\"286,-36 232,-36 232,0 286,0 286,-36\"/>\n<text text-anchor=\"middle\" x=\"259\" y=\"-14.3\" font-family=\"Times,serif\" font-size=\"14.00\" fill=\"#000000\">(...)</text>\n</g>\n<!-- 681&#45;&gt;682 -->\n<g id=\"edge6\" class=\"edge\">\n<title>681&#45;&gt;682</title>\n<path fill=\"none\" stroke=\"#000000\" d=\"M269.4274,-71.9769C267.7718,-63.4071 266.0133,-54.3043 264.4214,-46.0638\"/>\n<polygon fill=\"#000000\" stroke=\"#000000\" points=\"267.8476,-45.3465 262.5144,-36.192 260.9747,-46.6743 267.8476,-45.3465\"/>\n</g>\n<!-- 2283 -->\n<g id=\"node8\" class=\"node\">\n<title>2283</title>\n<polygon fill=\"#c0c0c0\" stroke=\"#000000\" points=\"358,-36 304,-36 304,0 358,0 358,-36\"/>\n<text text-anchor=\"middle\" x=\"331\" y=\"-14.3\" font-family=\"Times,serif\" font-size=\"14.00\" fill=\"#000000\">(...)</text>\n</g>\n<!-- 681&#45;&gt;2283 -->\n<g id=\"edge7\" class=\"edge\">\n<title>681&#45;&gt;2283</title>\n<path fill=\"none\" stroke=\"#000000\" d=\"M297.2644,-71.9769C302.9181,-62.931 308.943,-53.2913 314.3134,-44.6986\"/>\n<polygon fill=\"#000000\" stroke=\"#000000\" points=\"317.298,-46.527 319.63,-36.192 311.362,-42.8169 317.298,-46.527\"/>\n</g>\n<!-- 3533 -->\n<g id=\"node10\" class=\"node\">\n<title>3533</title>\n<polygon fill=\"#e3f1fb\" stroke=\"#000000\" points=\"592,-140 394,-140 394,-72 592,-72 592,-140\"/>\n<text text-anchor=\"middle\" x=\"493\" y=\"-124.8\" font-family=\"Times,serif\" font-size=\"14.00\" fill=\"#000000\">Work_Experience &lt;= 0.5</text>\n<text text-anchor=\"middle\" x=\"493\" y=\"-109.8\" font-family=\"Times,serif\" font-size=\"14.00\" fill=\"#000000\">entropy = 1.849</text>\n<text text-anchor=\"middle\" x=\"493\" y=\"-94.8\" font-family=\"Times,serif\" font-size=\"14.00\" fill=\"#000000\">samples = 3804</text>\n<text text-anchor=\"middle\" x=\"493\" y=\"-79.8\" font-family=\"Times,serif\" font-size=\"14.00\" fill=\"#000000\">value = [789, 1131, 1511, 373]</text>\n</g>\n<!-- 3532&#45;&gt;3533 -->\n<g id=\"edge9\" class=\"edge\">\n<title>3532&#45;&gt;3533</title>\n<path fill=\"none\" stroke=\"#000000\" d=\"M494.3451,-175.9465C494.188,-167.776 494.0179,-158.9318 493.8533,-150.3697\"/>\n<polygon fill=\"#000000\" stroke=\"#000000\" points=\"497.3481,-150.0608 493.6563,-140.13 490.3494,-150.1955 497.3481,-150.0608\"/>\n</g>\n<!-- 7764 -->\n<g id=\"node13\" class=\"node\">\n<title>7764</title>\n<polygon fill=\"#fbeee4\" stroke=\"#000000\" points=\"802,-140 610,-140 610,-72 802,-72 802,-140\"/>\n<text text-anchor=\"middle\" x=\"706\" y=\"-124.8\" font-family=\"Times,serif\" font-size=\"14.00\" fill=\"#000000\">Spending_Score &lt;= 0.5</text>\n<text text-anchor=\"middle\" x=\"706\" y=\"-109.8\" font-family=\"Times,serif\" font-size=\"14.00\" fill=\"#000000\">entropy = 1.939</text>\n<text text-anchor=\"middle\" x=\"706\" y=\"-94.8\" font-family=\"Times,serif\" font-size=\"14.00\" fill=\"#000000\">samples = 3330</text>\n<text text-anchor=\"middle\" x=\"706\" y=\"-79.8\" font-family=\"Times,serif\" font-size=\"14.00\" fill=\"#000000\">value = [1212, 871, 555, 692]</text>\n</g>\n<!-- 3532&#45;&gt;7764 -->\n<g id=\"edge12\" class=\"edge\">\n<title>3532&#45;&gt;7764</title>\n<path fill=\"none\" stroke=\"#000000\" d=\"M564.0893,-175.9465C584.4002,-165.9354 606.7633,-154.9129 627.6112,-144.6371\"/>\n<polygon fill=\"#000000\" stroke=\"#000000\" points=\"629.3332,-147.6905 636.7555,-140.13 626.2385,-141.4117 629.3332,-147.6905\"/>\n</g>\n<!-- 3534 -->\n<g id=\"node11\" class=\"node\">\n<title>3534</title>\n<polygon fill=\"#c0c0c0\" stroke=\"#000000\" points=\"464,-36 410,-36 410,0 464,0 464,-36\"/>\n<text text-anchor=\"middle\" x=\"437\" y=\"-14.3\" font-family=\"Times,serif\" font-size=\"14.00\" fill=\"#000000\">(...)</text>\n</g>\n<!-- 3533&#45;&gt;3534 -->\n<g id=\"edge10\" class=\"edge\">\n<title>3533&#45;&gt;3534</title>\n<path fill=\"none\" stroke=\"#000000\" d=\"M471.3489,-71.9769C465.5925,-62.931 459.4581,-53.2913 453.99,-44.6986\"/>\n<polygon fill=\"#000000\" stroke=\"#000000\" points=\"456.8983,-42.7495 448.5767,-36.192 450.9927,-46.5077 456.8983,-42.7495\"/>\n</g>\n<!-- 4757 -->\n<g id=\"node12\" class=\"node\">\n<title>4757</title>\n<polygon fill=\"#c0c0c0\" stroke=\"#000000\" points=\"536,-36 482,-36 482,0 536,0 536,-36\"/>\n<text text-anchor=\"middle\" x=\"509\" y=\"-14.3\" font-family=\"Times,serif\" font-size=\"14.00\" fill=\"#000000\">(...)</text>\n</g>\n<!-- 3533&#45;&gt;4757 -->\n<g id=\"edge11\" class=\"edge\">\n<title>3533&#45;&gt;4757</title>\n<path fill=\"none\" stroke=\"#000000\" d=\"M499.186,-71.9769C500.7442,-63.4071 502.3992,-54.3043 503.8975,-46.0638\"/>\n<polygon fill=\"#000000\" stroke=\"#000000\" points=\"507.347,-46.6568 505.6924,-36.192 500.4599,-45.4045 507.347,-46.6568\"/>\n</g>\n<!-- 7765 -->\n<g id=\"node14\" class=\"node\">\n<title>7765</title>\n<polygon fill=\"#c0c0c0\" stroke=\"#000000\" points=\"697,-36 643,-36 643,0 697,0 697,-36\"/>\n<text text-anchor=\"middle\" x=\"670\" y=\"-14.3\" font-family=\"Times,serif\" font-size=\"14.00\" fill=\"#000000\">(...)</text>\n</g>\n<!-- 7764&#45;&gt;7765 -->\n<g id=\"edge13\" class=\"edge\">\n<title>7764&#45;&gt;7765</title>\n<path fill=\"none\" stroke=\"#000000\" d=\"M692.0815,-71.9769C688.4977,-63.2167 684.6862,-53.8995 681.2564,-45.5157\"/>\n<polygon fill=\"#000000\" stroke=\"#000000\" points=\"684.468,-44.1222 677.4422,-36.192 677.9891,-46.7727 684.468,-44.1222\"/>\n</g>\n<!-- 9382 -->\n<g id=\"node15\" class=\"node\">\n<title>9382</title>\n<polygon fill=\"#c0c0c0\" stroke=\"#000000\" points=\"769,-36 715,-36 715,0 769,0 769,-36\"/>\n<text text-anchor=\"middle\" x=\"742\" y=\"-14.3\" font-family=\"Times,serif\" font-size=\"14.00\" fill=\"#000000\">(...)</text>\n</g>\n<!-- 7764&#45;&gt;9382 -->\n<g id=\"edge14\" class=\"edge\">\n<title>7764&#45;&gt;9382</title>\n<path fill=\"none\" stroke=\"#000000\" d=\"M719.9185,-71.9769C723.5023,-63.2167 727.3138,-53.8995 730.7436,-45.5157\"/>\n<polygon fill=\"#000000\" stroke=\"#000000\" points=\"734.0109,-46.7727 734.5578,-36.192 727.532,-44.1222 734.0109,-46.7727\"/>\n</g>\n</g>\n</svg>\n"
          },
          "metadata": {
            "tags": []
          },
          "execution_count": 15
        }
      ]
    },
    {
      "cell_type": "code",
      "metadata": {
        "id": "QBFYBi-ZT-tv",
        "colab": {
          "base_uri": "https://localhost:8080/"
        },
        "outputId": "923cae19-4fa6-45c8-8835-8564cb0091f1"
      },
      "source": [
        "#Applying gridsearch for Decision tree to find best parameters\n",
        "# create a dictionary of all values we want to test\n",
        "param_grid1 = { 'criterion':['gini','entropy'],    # impurity criterion\n",
        "              'max_depth': np.arange(2, 10)}      # tree depth \n",
        "   \n",
        "    \n",
        "# use gridsearch to test all values\n",
        "grid_search1 = GridSearchCV(entropy_dt_clf['classifier'], \n",
        "                           param_grid1, \n",
        "                           cv=3)\n",
        "    \n",
        "# fit the model \n",
        "grid_search1.fit(preprocessor.fit_transform(X_train), y_train)\n",
        "\n",
        "  # Printing the best values\n",
        "print(\"The best achieved accuracy after hyperparameter optimization: %.2f \\n\" % (grid_search1.best_score_))\n",
        "\n",
        "print(\"The best DT model hyperparameters:\", grid_search1.best_params_)"
      ],
      "execution_count": 16,
      "outputs": [
        {
          "output_type": "stream",
          "text": [
            "The best achieved accuracy after hyperparameter optimization: 0.47 \n",
            "\n",
            "The best DT model hyperparameters: {'criterion': 'gini', 'max_depth': 5}\n"
          ],
          "name": "stdout"
        }
      ]
    },
    {
      "cell_type": "code",
      "metadata": {
        "id": "JNI7rrW4UtCd",
        "colab": {
          "base_uri": "https://localhost:8080/"
        },
        "outputId": "6145aaf0-d70e-4f19-f959-3705af28da7d"
      },
      "source": [
        "# Use GridSearchCV to find optimum hyperparameter values for the SVC  model\n",
        "\n",
        "\n",
        "# create a dictionary of all values we want to test\n",
        "param_grid2 = {'kernel':['poly','linear','rbf'], \n",
        "              'gamma':['scale','auto'],      # Kernel coefficient for ‘rbf’, ‘poly’ and ‘sigmoid’.\n",
        "              'C': np.arange(1,4)}          # Regularization parameter\n",
        "   \n",
        "    \n",
        "# use gridsearch to test all values\n",
        "grid_search2 = GridSearchCV(poly_svc_clf['classifier'], \n",
        "                           param_grid2, \n",
        "                           cv=3)\n",
        "    \n",
        "# fit the model \n",
        "grid_search2.fit(preprocessor.fit_transform(X_train), y_train)\n",
        "\n",
        "   \n",
        "print(\"The best achieved accuracy after hyperparameter optimization: %.2f\\n\" % grid_search2.best_score_)\n",
        "\n",
        "print(\"The best SVC poly model hyperparameters:\", grid_search2.best_params_)"
      ],
      "execution_count": 17,
      "outputs": [
        {
          "output_type": "stream",
          "text": [
            "The best achieved accuracy after hyperparameter optimization: 0.47\n",
            "\n",
            "The best SVC poly model hyperparameters: {'C': 3, 'gamma': 'scale', 'kernel': 'rbf'}\n"
          ],
          "name": "stdout"
        }
      ]
    },
    {
      "cell_type": "code",
      "metadata": {
        "colab": {
          "base_uri": "https://localhost:8080/",
          "height": 281
        },
        "id": "KEN7XXFDGJuo",
        "outputId": "26f1b121-1d2f-4319-919e-1630500ad0ec"
      },
      "source": [
        "# graph results of grid search for the two models\n",
        "# before and after the hyperparameter tunnig\n",
        "labels = ['DT (Gini)', 'SVC (rbf)']\n",
        "before_optimization_scores = [entropy_dt_score, rbf_svc_clf_score]\n",
        "after_optimization_scores = [grid_search1.best_score_, grid_search2.best_score_]\n",
        "\n",
        "x = np.arange(len(labels))  # the label locations\n",
        "width = 0.25                # the width of the bars\n",
        "\n",
        "fig, ax = plt.subplots()\n",
        "rects1 = ax.bar(x - width/2, before_optimization_scores, width, label='Before Optimization', color='gray')\n",
        "rects2 = ax.bar(x + width/2, after_optimization_scores, width, label='After Optimization', color='maroon')\n",
        "\n",
        "# Add some text for labels, title and custom x-axis tick labels, etc.\n",
        "ax.set_ylabel('Accuracy')\n",
        "ax.set_xticks(x)\n",
        "ax.set_ylim(0,1.0)\n",
        "ax.set_xticklabels(labels)\n",
        "ax.legend(bbox_to_anchor = (1.45, 1.0), loc='upper right')\n",
        "\n",
        "plt.title('Hyperparamater Optimization Results')\n",
        "plt.show()\n"
      ],
      "execution_count": 18,
      "outputs": [
        {
          "output_type": "display_data",
          "data": {
            "image/png": "[encoded data removed]",
            "text/plain": [
              "<Figure size 432x288 with 1 Axes>"
            ]
          },
          "metadata": {
            "tags": [],
            "needs_background": "light"
          }
        }
      ]
    },
    {
      "cell_type": "markdown",
      "metadata": {
        "id": "pvh49MVKGvfj"
      },
      "source": [
        "**Summary**\n",
        "\n",
        "Done Correaltion analysis on the customer statisfaction dataset and then built pipelines to impute and prepare data for modeling.Built pipeline to do multiclass classification using Decision tree and SVC. The accuracies are on the lower end. Pipelines made it very easy to do apply multiple things at same time.Converted decision trees to text and graph to visualize the rules.Performed grid search to fidn the best hyperparameters.\n",
        "Only Decision tree had improved performance after hyper parameter tunning. I have used less values in Gridsearch as Colab is terminating out  with timeout error.\n",
        "\n"
      ]
    }
  ]
}