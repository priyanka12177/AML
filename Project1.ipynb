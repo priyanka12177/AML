{
  "nbformat": 4,
  "nbformat_minor": 0,
  "metadata": {
    "colab": {
      "name": "Project1.ipynb",
      "provenance": [],
      "collapsed_sections": [],
      "authorship_tag": "ABX9TyNwH7t4l8MdN2qxe7ItqTjq",
      "include_colab_link": true
    },
    "kernelspec": {
      "name": "python3",
      "display_name": "Python 3"
    },
    "language_info": {
      "name": "python"
    }
  },
  "cells": [
    {
      "cell_type": "markdown",
      "metadata": {
        "id": "view-in-github",
        "colab_type": "text"
      },
      "source": [
        "<a href=\"https://colab.research.google.com/github/priyanka12177/AML/blob/project1/Project1.ipynb\" target=\"_parent\"><img src=\"https://colab.research.google.com/assets/colab-badge.svg\" alt=\"Open In Colab\"/></a>"
      ]
    },
    {
      "cell_type": "code",
      "metadata": {
        "id": "uxkfPKb49yMP"
      },
      "source": [
        "# Pandas is mainly used for data analysis. Pandas allows importing data from various file formats \n",
        "# such as comma-separated values, JSON, SQL, Microsoft Excel. \n",
        "# Pandas allows various data manipulation operations such as merging, reshaping, selecting, \n",
        "# as well as data cleaning, and data wrangling features.\n",
        "# NumPy has support for large, multi-dimensional arrays and matrices, along with \n",
        "# a large collection of high-level mathematical functions to operate on these arrays.\n",
        "# Import matplotlib  to visualize the data\n",
        "import matplotlib.pyplot as plt\n",
        "import numpy as np\n",
        "import pandas as pd\n",
        "import sklearn.linear_model as l\n",
        "\n"
      ],
      "execution_count": 1,
      "outputs": []
    },
    {
      "cell_type": "code",
      "metadata": {
        "id": "R6fcD4NE6H90"
      },
      "source": [
        "#Read raw filefrom github into a dataframe\n",
        "#forest_data: Amounts of area burn in the forest because of different parameters like Temperature,humidity,wind and rain\n",
        "\n",
        "df = pd.read_csv('https://raw.githubusercontent.com/priyanka12177/AML/project1/forestfires.csv')"
      ],
      "execution_count": 2,
      "outputs": []
    },
    {
      "cell_type": "code",
      "metadata": {
        "colab": {
          "base_uri": "https://localhost:8080/",
          "height": 202
        },
        "id": "CtCe4Nxo9q7-",
        "outputId": "42fb1fc7-725e-416d-9a79-43ae26b4fe27"
      },
      "source": [
        "#head function is used to get the first 5 rows\n",
        "df.head()"
      ],
      "execution_count": 3,
      "outputs": [
        {
          "output_type": "execute_result",
          "data": {
            "text/html": [
              "<div>\n",
              "<style scoped>\n",
              "    .dataframe tbody tr th:only-of-type {\n",
              "        vertical-align: middle;\n",
              "    }\n",
              "\n",
              "    .dataframe tbody tr th {\n",
              "        vertical-align: top;\n",
              "    }\n",
              "\n",
              "    .dataframe thead th {\n",
              "        text-align: right;\n",
              "    }\n",
              "</style>\n",
              "<table border=\"1\" class=\"dataframe\">\n",
              "  <thead>\n",
              "    <tr style=\"text-align: right;\">\n",
              "      <th></th>\n",
              "      <th>X</th>\n",
              "      <th>Y</th>\n",
              "      <th>month</th>\n",
              "      <th>day</th>\n",
              "      <th>FFMC</th>\n",
              "      <th>DMC</th>\n",
              "      <th>DC</th>\n",
              "      <th>ISI</th>\n",
              "      <th>temp</th>\n",
              "      <th>RH</th>\n",
              "      <th>wind</th>\n",
              "      <th>rain</th>\n",
              "      <th>area</th>\n",
              "    </tr>\n",
              "  </thead>\n",
              "  <tbody>\n",
              "    <tr>\n",
              "      <th>0</th>\n",
              "      <td>7</td>\n",
              "      <td>5</td>\n",
              "      <td>mar</td>\n",
              "      <td>fri</td>\n",
              "      <td>86.2</td>\n",
              "      <td>26.2</td>\n",
              "      <td>94.3</td>\n",
              "      <td>5.1</td>\n",
              "      <td>8.2</td>\n",
              "      <td>51</td>\n",
              "      <td>6.7</td>\n",
              "      <td>0.0</td>\n",
              "      <td>0.0</td>\n",
              "    </tr>\n",
              "    <tr>\n",
              "      <th>1</th>\n",
              "      <td>7</td>\n",
              "      <td>4</td>\n",
              "      <td>oct</td>\n",
              "      <td>tue</td>\n",
              "      <td>90.6</td>\n",
              "      <td>35.4</td>\n",
              "      <td>669.1</td>\n",
              "      <td>6.7</td>\n",
              "      <td>18.0</td>\n",
              "      <td>33</td>\n",
              "      <td>0.9</td>\n",
              "      <td>0.0</td>\n",
              "      <td>0.0</td>\n",
              "    </tr>\n",
              "    <tr>\n",
              "      <th>2</th>\n",
              "      <td>7</td>\n",
              "      <td>4</td>\n",
              "      <td>oct</td>\n",
              "      <td>sat</td>\n",
              "      <td>90.6</td>\n",
              "      <td>43.7</td>\n",
              "      <td>686.9</td>\n",
              "      <td>6.7</td>\n",
              "      <td>14.6</td>\n",
              "      <td>33</td>\n",
              "      <td>1.3</td>\n",
              "      <td>0.0</td>\n",
              "      <td>0.0</td>\n",
              "    </tr>\n",
              "    <tr>\n",
              "      <th>3</th>\n",
              "      <td>8</td>\n",
              "      <td>6</td>\n",
              "      <td>mar</td>\n",
              "      <td>fri</td>\n",
              "      <td>91.7</td>\n",
              "      <td>33.3</td>\n",
              "      <td>77.5</td>\n",
              "      <td>9.0</td>\n",
              "      <td>8.3</td>\n",
              "      <td>97</td>\n",
              "      <td>4.0</td>\n",
              "      <td>0.2</td>\n",
              "      <td>0.0</td>\n",
              "    </tr>\n",
              "    <tr>\n",
              "      <th>4</th>\n",
              "      <td>8</td>\n",
              "      <td>6</td>\n",
              "      <td>mar</td>\n",
              "      <td>sun</td>\n",
              "      <td>89.3</td>\n",
              "      <td>51.3</td>\n",
              "      <td>102.2</td>\n",
              "      <td>9.6</td>\n",
              "      <td>11.4</td>\n",
              "      <td>99</td>\n",
              "      <td>1.8</td>\n",
              "      <td>0.0</td>\n",
              "      <td>0.0</td>\n",
              "    </tr>\n",
              "  </tbody>\n",
              "</table>\n",
              "</div>"
            ],
            "text/plain": [
              "   X  Y month  day  FFMC   DMC     DC  ISI  temp  RH  wind  rain  area\n",
              "0  7  5   mar  fri  86.2  26.2   94.3  5.1   8.2  51   6.7   0.0   0.0\n",
              "1  7  4   oct  tue  90.6  35.4  669.1  6.7  18.0  33   0.9   0.0   0.0\n",
              "2  7  4   oct  sat  90.6  43.7  686.9  6.7  14.6  33   1.3   0.0   0.0\n",
              "3  8  6   mar  fri  91.7  33.3   77.5  9.0   8.3  97   4.0   0.2   0.0\n",
              "4  8  6   mar  sun  89.3  51.3  102.2  9.6  11.4  99   1.8   0.0   0.0"
            ]
          },
          "metadata": {
            "tags": []
          },
          "execution_count": 3
        }
      ]
    },
    {
      "cell_type": "code",
      "metadata": {
        "colab": {
          "base_uri": "https://localhost:8080/"
        },
        "id": "4yKjvQE1_MbD",
        "outputId": "c607ec96-c592-4b38-8eb0-966fb5ecfbe3"
      },
      "source": [
        "# simple linear regression for the forest area burn with repect to temperatures\n",
        "lm = l.LinearRegression()\n",
        "\n",
        "# another way to reshape is to add an extra column; -1 means we don't specify #rows\n",
        "# x is temperature and y is area\n",
        "x = df['temp'].values.reshape(-1,1)\n",
        "y = df['area'].values.reshape(-1,1)\n",
        "\n",
        "# Fit the model using .fit() method\n",
        "lm.fit(x, y)\n",
        "\n",
        "# intercept and slope values\n",
        "t0, t1 = lm.intercept_[0], lm.coef_[0][0]\n",
        "t0, t1"
      ],
      "execution_count": 4,
      "outputs": [
        {
          "output_type": "execute_result",
          "data": {
            "text/plain": [
              "(-7.413751564770022, 1.072627621060047)"
            ]
          },
          "metadata": {
            "tags": []
          },
          "execution_count": 4
        }
      ]
    },
    {
      "cell_type": "markdown",
      "metadata": {
        "id": "eGVbNZKcAl8D"
      },
      "source": [
        "Linear Model: Area = -7.414 + 1.073 * temp"
      ]
    },
    {
      "cell_type": "code",
      "metadata": {
        "colab": {
          "base_uri": "https://localhost:8080/",
          "height": 229
        },
        "id": "0cshAEKOBIrw",
        "outputId": "5c379e06-e809-4024-9f12-61940870100f"
      },
      "source": [
        "# scatter plot for the forest area burn with repect to temperatures\n",
        "df.plot(kind='scatter', x='temp', y='area', figsize=(8, 3))\n",
        "\n",
        "plt.axis([0, 50, 0, 100])\n",
        "\n",
        "plt.plot(x, t0 + t1*x, \"r\")\n",
        "\n",
        "plt.show()"
      ],
      "execution_count": 5,
      "outputs": [
        {
          "output_type": "display_data",
          "data": {
            "image/png": "[encoded data removed]",
            "text/plain": [
              "<Figure size 576x216 with 1 Axes>"
            ]
          },
          "metadata": {
            "tags": [],
            "needs_background": "light"
          }
        }
      ]
    },
    {
      "cell_type": "code",
      "metadata": {
        "id": "arut4fI8DcAH"
      },
      "source": [
        "# Split the data into training and testing sets\n",
        "# random_state control the shuffling of input data\n",
        "\n",
        "from sklearn.model_selection import train_test_split\n",
        "x_train, x_test, y_train, y_test = train_test_split(x, y, train_size = 0.8, \n",
        "                                                          test_size = 0.2, \n",
        "                                                          random_state = 100)"
      ],
      "execution_count": 6,
      "outputs": []
    },
    {
      "cell_type": "code",
      "metadata": {
        "colab": {
          "base_uri": "https://localhost:8080/"
        },
        "id": "Eud6DaVrD36S",
        "outputId": "7b8299a9-e24c-40bc-a3d1-ea97b01a787d"
      },
      "source": [
        "# checking the number of rows and columns for train data for area vs temp\n",
        "x_train.shape"
      ],
      "execution_count": 7,
      "outputs": [
        {
          "output_type": "execute_result",
          "data": {
            "text/plain": [
              "(413, 1)"
            ]
          },
          "metadata": {
            "tags": []
          },
          "execution_count": 7
        }
      ]
    },
    {
      "cell_type": "code",
      "metadata": {
        "colab": {
          "base_uri": "https://localhost:8080/"
        },
        "id": "4nn587OeEB0n",
        "outputId": "7a970746-bed6-4ad3-e9f2-20662c3c4fa8"
      },
      "source": [
        "# checking the number of rows and columns for test data for area vs temp\n",
        "x_test.shape"
      ],
      "execution_count": 8,
      "outputs": [
        {
          "output_type": "execute_result",
          "data": {
            "text/plain": [
              "(104, 1)"
            ]
          },
          "metadata": {
            "tags": []
          },
          "execution_count": 8
        }
      ]
    },
    {
      "cell_type": "code",
      "metadata": {
        "colab": {
          "base_uri": "https://localhost:8080/"
        },
        "id": "qhVF_h4JEILl",
        "outputId": "645aa2de-9512-44bb-ef64-c45cf8955c55"
      },
      "source": [
        "#fitting the linear regression on training data for area vs temp\n",
        "lm.fit(x_train, y_train)\n",
        "print(\"Intercept :\",lm.intercept_)\n",
        "print('Slope :',lm.coef_)"
      ],
      "execution_count": 9,
      "outputs": [
        {
          "output_type": "stream",
          "text": [
            "Intercept : [-12.01798625]\n",
            "Slope : [[1.36887159]]\n"
          ],
          "name": "stdout"
        }
      ]
    },
    {
      "cell_type": "markdown",
      "metadata": {
        "id": "UD95iX57EXDp"
      },
      "source": [
        "Linear Model: Area = -12.018 + 1.369 * temp"
      ]
    },
    {
      "cell_type": "code",
      "metadata": {
        "colab": {
          "base_uri": "https://localhost:8080/"
        },
        "id": "N6Oy_BrCEwyK",
        "outputId": "274a31cd-f16d-4c88-94dd-2e5c5298ac29"
      },
      "source": [
        "# Let's make predictions on the data and evaluate the model using the R² and MSE values\n",
        "'''\n",
        "R2 is a statistic that will give some information about the goodness of fit of a model. \n",
        "In regression, the R2 coefficient of determination is a statistical measure of how well \n",
        "the regression predictions approximate the real data points. An R2 of 1 indicates that \n",
        "the regression predictions perfectly fit the data.\n",
        "'''\n",
        "from sklearn.metrics import r2_score, mean_squared_error\n",
        "\n",
        "# train the model using the training set\n",
        "y_train_pred = lm.predict(x_train)\n",
        "\n",
        "# make predictions using the testing set\n",
        "y_test_pred = lm.predict(x_test)\n",
        "\n",
        "m1_r2_score = r2_score(y_test, y_test_pred)\n",
        "m1_mse = mean_squared_error(y_test, y_test_pred)\n",
        "\n",
        "print('R2 score:',            r2_score(y_test, y_test_pred))\n",
        "print('Mean squared error:', mean_squared_error(y_test, y_test_pred))"
      ],
      "execution_count": 10,
      "outputs": [
        {
          "output_type": "stream",
          "text": [
            "R2 score: -0.11059902589371906\n",
            "Mean squared error: 938.272869872064\n"
          ],
          "name": "stdout"
        }
      ]
    },
    {
      "cell_type": "code",
      "metadata": {
        "colab": {
          "base_uri": "https://localhost:8080/"
        },
        "id": "AVBCKgHhmzdq",
        "outputId": "9cf882b4-ceb3-4a05-e74f-dad66cf13d27"
      },
      "source": [
        "#simple linear regression for the forest area burn and relative humidity\n",
        "lm = l.LinearRegression()\n",
        "\n",
        "# another way to reshape is to add an extra column; -1 means we don't specify #rows\n",
        "# x is temperature and y is area\n",
        "\n",
        "x = df['RH'].values.reshape(-1,1)\n",
        "y = df['area'].values.reshape(-1,1)\n",
        "\n",
        "\n",
        "\n",
        "# Fit the model using .fit() method\n",
        "lm.fit(x, y)\n",
        "\n",
        "# intercept and slope values\n",
        "t0, t1 = lm.intercept_[0], lm.coef_[0][0]\n",
        "t0, t1"
      ],
      "execution_count": 11,
      "outputs": [
        {
          "output_type": "execute_result",
          "data": {
            "text/plain": [
              "(25.894784845023256, -0.2946042610331932)"
            ]
          },
          "metadata": {
            "tags": []
          },
          "execution_count": 11
        }
      ]
    },
    {
      "cell_type": "markdown",
      "metadata": {
        "id": "d8TQyTjUnJZm"
      },
      "source": [
        "Linear Model: Area = 25.895-0.295 * RH"
      ]
    },
    {
      "cell_type": "code",
      "metadata": {
        "colab": {
          "base_uri": "https://localhost:8080/",
          "height": 229
        },
        "id": "ltmxJIAundk2",
        "outputId": "c046134f-1486-477c-9af7-2520919acdbb"
      },
      "source": [
        "# scatter plot for the forest area burn with repect to Relative humidity\n",
        "df.plot(kind='scatter', x='RH', y='area', figsize=(8, 3))\n",
        "\n",
        "plt.axis([0, 100, 0, 100])\n",
        "\n",
        "plt.plot(x, t0 + t1*x, \"r\")\n",
        "\n",
        "plt.show()"
      ],
      "execution_count": 12,
      "outputs": [
        {
          "output_type": "display_data",
          "data": {
            "image/png": "[encoded data removed]",
            "text/plain": [
              "<Figure size 576x216 with 1 Axes>"
            ]
          },
          "metadata": {
            "tags": [],
            "needs_background": "light"
          }
        }
      ]
    },
    {
      "cell_type": "code",
      "metadata": {
        "id": "WbDAs9sVolbW"
      },
      "source": [
        "# Split the data into training and testing sets for  area vs relative humidity\n",
        "# random_state control the shuffling of input data\n",
        "\n",
        "from sklearn.model_selection import train_test_split\n",
        "x_train, x_test, y_train, y_test = train_test_split(x, y, train_size = 0.8, \n",
        "                                                          test_size = 0.2, \n",
        "                                                          random_state = 100)"
      ],
      "execution_count": 13,
      "outputs": []
    },
    {
      "cell_type": "code",
      "metadata": {
        "colab": {
          "base_uri": "https://localhost:8080/"
        },
        "id": "ARXaaIm9oyCc",
        "outputId": "add6ba18-e8c3-4aaf-8010-106e8fc1e6c5"
      },
      "source": [
        "# checking the number of rows and columns for train data for area vs relative humidity\n",
        "x_train.shape"
      ],
      "execution_count": 14,
      "outputs": [
        {
          "output_type": "execute_result",
          "data": {
            "text/plain": [
              "(413, 1)"
            ]
          },
          "metadata": {
            "tags": []
          },
          "execution_count": 14
        }
      ]
    },
    {
      "cell_type": "code",
      "metadata": {
        "colab": {
          "base_uri": "https://localhost:8080/"
        },
        "id": "NX3eytZ4o6qh",
        "outputId": "70954926-b7de-4e70-ed0c-b4c546b632f6"
      },
      "source": [
        "# checking the number of rows and columns for train data for area vs relative humidity\n",
        "x_test.shape"
      ],
      "execution_count": 15,
      "outputs": [
        {
          "output_type": "execute_result",
          "data": {
            "text/plain": [
              "(104, 1)"
            ]
          },
          "metadata": {
            "tags": []
          },
          "execution_count": 15
        }
      ]
    },
    {
      "cell_type": "code",
      "metadata": {
        "colab": {
          "base_uri": "https://localhost:8080/"
        },
        "id": "slOGxmcEpbpp",
        "outputId": "fd3709a9-9644-4b2d-c0c8-7aaebcdf1cb4"
      },
      "source": [
        "#fitting the linear regression on training data for area vs relative humidity\n",
        "lm.fit(x_train, y_train)\n",
        "print(\"Intercept :\",lm.intercept_)\n",
        "print('Slope :',lm.coef_)"
      ],
      "execution_count": 16,
      "outputs": [
        {
          "output_type": "stream",
          "text": [
            "Intercept : [29.37563009]\n",
            "Slope : [[-0.35699106]]\n"
          ],
          "name": "stdout"
        }
      ]
    },
    {
      "cell_type": "markdown",
      "metadata": {
        "id": "HgaXgSALpiIA"
      },
      "source": [
        "Linear Model: Area =29.376 -0.357* RH\n",
        "\n",
        "\n",
        "\n"
      ]
    },
    {
      "cell_type": "code",
      "metadata": {
        "colab": {
          "base_uri": "https://localhost:8080/"
        },
        "id": "f5IQgwUEp8OK",
        "outputId": "b0d421c5-dec9-4fa1-8c5a-afef31ec9893"
      },
      "source": [
        "# Let's make predictions on the data and evaluate the model using the R² and MSE values\n",
        "'''\n",
        "R2 is a statistic that will give some information about the goodness of fit of a model. \n",
        "In regression, the R2 coefficient of determination is a statistical measure of how well \n",
        "the regression predictions approximate the real data points. An R2 of 1 indicates that \n",
        "the regression predictions perfectly fit the data.\n",
        "'''\n",
        "from sklearn.metrics import r2_score, mean_squared_error\n",
        "\n",
        "# train the model using the training set\n",
        "y_train_pred = lm.predict(x_train)\n",
        "\n",
        "# make predictions using the testing set\n",
        "y_test_pred = lm.predict(x_test)\n",
        "\n",
        "m2_r2_score = r2_score(y_test, y_test_pred)\n",
        "m2_mse = mean_squared_error(y_test, y_test_pred)\n",
        "\n",
        "print('R2 score of RH:',            r2_score(y_test, y_test_pred))\n",
        "print('Mean squared error for RH:', mean_squared_error(y_test, y_test_pred))"
      ],
      "execution_count": 17,
      "outputs": [
        {
          "output_type": "stream",
          "text": [
            "R2 score of RH: -0.04845187467769896\n",
            "Mean squared error for RH: 885.7687846295037\n"
          ],
          "name": "stdout"
        }
      ]
    },
    {
      "cell_type": "code",
      "metadata": {
        "colab": {
          "base_uri": "https://localhost:8080/"
        },
        "id": "SqTzp4GkqO50",
        "outputId": "580ac769-db1a-4aa1-d690-060016f82bc7"
      },
      "source": [
        "# Let's use simple linear regression for the forest area burn and wind\n",
        "lm = l.LinearRegression()\n",
        "\n",
        "# another way to reshape is to add an extra column; -1 means we don't specify #rows\n",
        "# x is wind and y is area\n",
        "\n",
        "x = df['wind'].values.reshape(-1,1)\n",
        "y = df['area'].values.reshape(-1,1)\n",
        "\n",
        "# Fit the model using .fit() method\n",
        "lm.fit(x, y)\n",
        "\n",
        "# intercept and slope values\n",
        "t0, t1 = lm.intercept_[0], lm.coef_[0][0]\n",
        "t0, t1"
      ],
      "execution_count": 18,
      "outputs": [
        {
          "output_type": "execute_result",
          "data": {
            "text/plain": [
              "(11.089101812334118, 0.43762185885285254)"
            ]
          },
          "metadata": {
            "tags": []
          },
          "execution_count": 18
        }
      ]
    },
    {
      "cell_type": "markdown",
      "metadata": {
        "id": "X06nFKG4qv5h"
      },
      "source": [
        "Linear Model: Area = 11.089 + 0.4376 * wind"
      ]
    },
    {
      "cell_type": "code",
      "metadata": {
        "colab": {
          "base_uri": "https://localhost:8080/",
          "height": 229
        },
        "id": "MkjxOx46rB4j",
        "outputId": "f228e1d9-4ce7-4884-ef39-2ceb0279e095"
      },
      "source": [
        "# scatter plot for the forest area burn with repect to wind\n",
        "df.plot(kind='scatter', x='wind', y='area', figsize=(8, 3))\n",
        "\n",
        "plt.axis([0, 10, 0, 100])\n",
        "\n",
        "plt.plot(x, t0 + t1*x, \"r\")\n",
        "\n",
        "plt.show()"
      ],
      "execution_count": 19,
      "outputs": [
        {
          "output_type": "display_data",
          "data": {
            "image/png": "[encoded data removed]",
            "text/plain": [
              "<Figure size 576x216 with 1 Axes>"
            ]
          },
          "metadata": {
            "tags": [],
            "needs_background": "light"
          }
        }
      ]
    },
    {
      "cell_type": "code",
      "metadata": {
        "id": "oZ7iJd7JrQYh"
      },
      "source": [
        "# Let's experiment again, but this time split the data into training and testing sets for area vs wind\n",
        "# random_state control the shuffling of input data\n",
        "\n",
        "from sklearn.model_selection import train_test_split\n",
        "x_train, x_test, y_train, y_test = train_test_split(x, y, train_size = 0.8, \n",
        "                                                          test_size = 0.2, \n",
        "                                                          random_state = 100)"
      ],
      "execution_count": 20,
      "outputs": []
    },
    {
      "cell_type": "code",
      "metadata": {
        "colab": {
          "base_uri": "https://localhost:8080/"
        },
        "id": "swgJbu-4rWH1",
        "outputId": "c1139a39-5fcc-41d0-c8d9-8807cafc74d5"
      },
      "source": [
        "# checking the number of rows and columns for train data for area vs wind\n",
        "x_train.shape"
      ],
      "execution_count": 21,
      "outputs": [
        {
          "output_type": "execute_result",
          "data": {
            "text/plain": [
              "(413, 1)"
            ]
          },
          "metadata": {
            "tags": []
          },
          "execution_count": 21
        }
      ]
    },
    {
      "cell_type": "code",
      "metadata": {
        "colab": {
          "base_uri": "https://localhost:8080/"
        },
        "id": "XQjM9gADrbkk",
        "outputId": "0bb2e586-77c2-4a2d-c458-5a7d253ac11f"
      },
      "source": [
        "# checking the number of rows and columns for train data for area vs wind\n",
        "x_test.shape"
      ],
      "execution_count": 22,
      "outputs": [
        {
          "output_type": "execute_result",
          "data": {
            "text/plain": [
              "(104, 1)"
            ]
          },
          "metadata": {
            "tags": []
          },
          "execution_count": 22
        }
      ]
    },
    {
      "cell_type": "code",
      "metadata": {
        "colab": {
          "base_uri": "https://localhost:8080/"
        },
        "id": "mGeZCiXRrjtE",
        "outputId": "2215e956-b28c-465c-9681-d1359eff422f"
      },
      "source": [
        "#fitting the linear regression on training data for area vs wind\n",
        "lm.fit(x_train, y_train)\n",
        "print(\"Intercept :\",lm.intercept_)\n",
        "print('Slope :',lm.coef_)"
      ],
      "execution_count": 23,
      "outputs": [
        {
          "output_type": "stream",
          "text": [
            "Intercept : [11.94571583]\n",
            "Slope : [[0.44053305]]\n"
          ],
          "name": "stdout"
        }
      ]
    },
    {
      "cell_type": "markdown",
      "metadata": {
        "id": "1ZABn-rarqzM"
      },
      "source": [
        "Linear Model: Area = 11.946+ 0.440 * wind\n",
        "\n",
        "\n"
      ]
    },
    {
      "cell_type": "code",
      "metadata": {
        "colab": {
          "base_uri": "https://localhost:8080/"
        },
        "id": "7l9_u6P8r4G-",
        "outputId": "9e87ac92-d1a4-470a-febe-a46150d7b523"
      },
      "source": [
        "# Let's make predictions on the data and evaluate the model using the R² and MSE values\n",
        "'''\n",
        "R2 is a statistic that will give some information about the goodness of fit of a model. \n",
        "In regression, the R2 coefficient of determination is a statistical measure of how well \n",
        "the regression predictions approximate the real data points. An R2 of 1 indicates that \n",
        "the regression predictions perfectly fit the data.\n",
        "'''\n",
        "from sklearn.metrics import r2_score, mean_squared_error\n",
        "\n",
        "# train the model using the training set\n",
        "y_train_pred = lm.predict(x_train)\n",
        "\n",
        "# make predictions using the testing set\n",
        "y_test_pred = lm.predict(x_test)\n",
        "\n",
        "m3_r2_score = r2_score(y_test, y_test_pred)\n",
        "m3_mse = mean_squared_error(y_test, y_test_pred)\n",
        "\n",
        "\n",
        "print('R2 score of wind:',            r2_score(y_test, y_test_pred))\n",
        "print('Mean squared error for wind:', mean_squared_error(y_test, y_test_pred))"
      ],
      "execution_count": 24,
      "outputs": [
        {
          "output_type": "stream",
          "text": [
            "R2 score of wind: -0.021974822191322962\n",
            "Mean squared error for wind: 863.4000453789413\n"
          ],
          "name": "stdout"
        }
      ]
    },
    {
      "cell_type": "code",
      "metadata": {
        "colab": {
          "base_uri": "https://localhost:8080/"
        },
        "id": "0LfhjKTssHUH",
        "outputId": "3e30f903-6482-4021-ed1a-488e3f498eb4"
      },
      "source": [
        "# Let's use simple linear regression for the forest area burn and Rain\n",
        "lm = l.LinearRegression()\n",
        "\n",
        "# another way to reshape is to add an extra column; -1 means we don't specify #rows\n",
        "# x is rain and y is area\n",
        "\n",
        "x = df['rain'].values.reshape(-1,1)\n",
        "y = df['area'].values.reshape(-1,1)\n",
        "\n",
        "# Fit the model using .fit() method\n",
        "lm.fit(x, y)\n",
        "\n",
        "# intercept and slope values\n",
        "t0, t1 = lm.intercept_[0], lm.coef_[0][0]\n",
        "t0, t1"
      ],
      "execution_count": 25,
      "outputs": [
        {
          "output_type": "execute_result",
          "data": {
            "text/plain": [
              "(12.881612253841306, -1.5842442174960942)"
            ]
          },
          "metadata": {
            "tags": []
          },
          "execution_count": 25
        }
      ]
    },
    {
      "cell_type": "markdown",
      "metadata": {
        "id": "6x7OFnUhsUs-"
      },
      "source": [
        "Linear Model: Area = 12.882 -1.584 * rain"
      ]
    },
    {
      "cell_type": "code",
      "metadata": {
        "colab": {
          "base_uri": "https://localhost:8080/",
          "height": 229
        },
        "id": "MrU6jXrssn6K",
        "outputId": "87c26b80-ee6f-4135-87ff-c20f966643a9"
      },
      "source": [
        "# scatter plot for the forest area burn with repect to rain\n",
        "df.plot(kind='scatter', x='rain', y='area', figsize=(8, 3))\n",
        "\n",
        "plt.axis([0, 10, 0, 100])\n",
        "\n",
        "plt.plot(x, t0 + t1*x, \"r\")\n",
        "\n",
        "plt.show()"
      ],
      "execution_count": 26,
      "outputs": [
        {
          "output_type": "display_data",
          "data": {
            "image/png": "[encoded data removed]",
            "text/plain": [
              "<Figure size 576x216 with 1 Axes>"
            ]
          },
          "metadata": {
            "tags": [],
            "needs_background": "light"
          }
        }
      ]
    },
    {
      "cell_type": "code",
      "metadata": {
        "id": "gOQk__Cys1C1"
      },
      "source": [
        "# Let's experiment again, but this time split the data into training and testing sets area vs rain\n",
        "# random_state control the shuffling of input data\n",
        "\n",
        "from sklearn.model_selection import train_test_split\n",
        "x_train, x_test, y_train, y_test = train_test_split(x, y, train_size = 0.8, \n",
        "                                                          test_size = 0.2, \n",
        "                                                          random_state = 100)"
      ],
      "execution_count": 27,
      "outputs": []
    },
    {
      "cell_type": "code",
      "metadata": {
        "colab": {
          "base_uri": "https://localhost:8080/"
        },
        "id": "xQCRoPups7aK",
        "outputId": "4e825729-5420-4b9b-af4e-1fc0a44dce9a"
      },
      "source": [
        "# checking the number of rows and columns for train data for area vs rain\n",
        "x_train.shape"
      ],
      "execution_count": 28,
      "outputs": [
        {
          "output_type": "execute_result",
          "data": {
            "text/plain": [
              "(413, 1)"
            ]
          },
          "metadata": {
            "tags": []
          },
          "execution_count": 28
        }
      ]
    },
    {
      "cell_type": "code",
      "metadata": {
        "colab": {
          "base_uri": "https://localhost:8080/"
        },
        "id": "wGHbBaFvs_-e",
        "outputId": "3dee71fc-6713-4bdc-c55a-6e7c93338760"
      },
      "source": [
        "# checking the number of rows and columns for train data for area vs rain\n",
        "x_test.shape"
      ],
      "execution_count": 29,
      "outputs": [
        {
          "output_type": "execute_result",
          "data": {
            "text/plain": [
              "(104, 1)"
            ]
          },
          "metadata": {
            "tags": []
          },
          "execution_count": 29
        }
      ]
    },
    {
      "cell_type": "code",
      "metadata": {
        "colab": {
          "base_uri": "https://localhost:8080/"
        },
        "id": "ruyFoy7MtF4I",
        "outputId": "62b2f3ae-52de-4b0d-af9c-cb1af174e3be"
      },
      "source": [
        "#fitting the linear regression on training data for area vs rain\n",
        "lm.fit(x_train, y_train)\n",
        "print(\"Intercept :\",lm.intercept_)\n",
        "print('Slope :',lm.coef_)"
      ],
      "execution_count": 30,
      "outputs": [
        {
          "output_type": "stream",
          "text": [
            "Intercept : [13.77120025]\n",
            "Slope : [[-1.62884002]]\n"
          ],
          "name": "stdout"
        }
      ]
    },
    {
      "cell_type": "markdown",
      "metadata": {
        "id": "xDU_RG46tLt0"
      },
      "source": [
        "Linear Model: Area = 13.771-1.629 * rain\n",
        "\n",
        "\n",
        "\n"
      ]
    },
    {
      "cell_type": "code",
      "metadata": {
        "colab": {
          "base_uri": "https://localhost:8080/"
        },
        "id": "Nl_CzU73tdMc",
        "outputId": "464d3125-dd75-4a51-ba94-b4175312bddb"
      },
      "source": [
        "# Let's make predictions on the data and evaluate the model using the R² and MSE values\n",
        "'''\n",
        "R2 is a statistic that will give some information about the goodness of fit of a model. \n",
        "In regression, the R2 coefficient of determination is a statistical measure of how well \n",
        "the regression predictions approximate the real data points. An R2 of 1 indicates that \n",
        "the regression predictions perfectly fit the data.\n",
        "'''\n",
        "from sklearn.metrics import r2_score, mean_squared_error\n",
        "\n",
        "# train the model using the training set\n",
        "y_train_pred = lm.predict(x_train)\n",
        "\n",
        "# make predictions using the testing set\n",
        "y_test_pred = lm.predict(x_test)\n",
        "\n",
        "m4_r2_score = r2_score(y_test, y_test_pred)\n",
        "m4_mse = mean_squared_error(y_test, y_test_pred)\n",
        "\n",
        "\n",
        "print('R2 score of rain:',            r2_score(y_test, y_test_pred))\n",
        "print('Mean squared error for rain:', mean_squared_error(y_test, y_test_pred))"
      ],
      "execution_count": 31,
      "outputs": [
        {
          "output_type": "stream",
          "text": [
            "R2 score of rain: -0.02289617576001013\n",
            "Mean squared error for rain: 864.1784370728861\n"
          ],
          "name": "stdout"
        }
      ]
    },
    {
      "cell_type": "code",
      "metadata": {
        "id": "qVJK5Subyw74"
      },
      "source": [
        "#Creating Dataframes for different models\n",
        "df1 = pd.DataFrame({'R2_square': m1_r2_score, 'MSE_ERROR': m1_mse}, index=['model1'])\n",
        "df2 = pd.DataFrame({'R2_square': m2_r2_score, 'MSE_ERROR': m2_mse}, index=['model2'])\n",
        "df3 = pd.DataFrame({'R2_square': m3_r2_score, 'MSE_ERROR': m3_mse}, index=['model3'])\n",
        "df4 = pd.DataFrame({'R2_square': m4_r2_score, 'MSE_ERROR': m4_mse}, index=['model4'])\n"
      ],
      "execution_count": 32,
      "outputs": []
    },
    {
      "cell_type": "code",
      "metadata": {
        "colab": {
          "base_uri": "https://localhost:8080/",
          "height": 171
        },
        "id": "QBuabqEpyxRa",
        "outputId": "58bda0a0-19b3-485a-c1bf-3626d96ff886"
      },
      "source": [
        "# Concatinating the dataframes to get the table\n",
        "final = pd.concat([df1,df2,df3,df4])\n",
        "final"
      ],
      "execution_count": 33,
      "outputs": [
        {
          "output_type": "execute_result",
          "data": {
            "text/html": [
              "<div>\n",
              "<style scoped>\n",
              "    .dataframe tbody tr th:only-of-type {\n",
              "        vertical-align: middle;\n",
              "    }\n",
              "\n",
              "    .dataframe tbody tr th {\n",
              "        vertical-align: top;\n",
              "    }\n",
              "\n",
              "    .dataframe thead th {\n",
              "        text-align: right;\n",
              "    }\n",
              "</style>\n",
              "<table border=\"1\" class=\"dataframe\">\n",
              "  <thead>\n",
              "    <tr style=\"text-align: right;\">\n",
              "      <th></th>\n",
              "      <th>R2_square</th>\n",
              "      <th>MSE_ERROR</th>\n",
              "    </tr>\n",
              "  </thead>\n",
              "  <tbody>\n",
              "    <tr>\n",
              "      <th>model1</th>\n",
              "      <td>-0.110599</td>\n",
              "      <td>938.272870</td>\n",
              "    </tr>\n",
              "    <tr>\n",
              "      <th>model2</th>\n",
              "      <td>-0.048452</td>\n",
              "      <td>885.768785</td>\n",
              "    </tr>\n",
              "    <tr>\n",
              "      <th>model3</th>\n",
              "      <td>-0.021975</td>\n",
              "      <td>863.400045</td>\n",
              "    </tr>\n",
              "    <tr>\n",
              "      <th>model4</th>\n",
              "      <td>-0.022896</td>\n",
              "      <td>864.178437</td>\n",
              "    </tr>\n",
              "  </tbody>\n",
              "</table>\n",
              "</div>"
            ],
            "text/plain": [
              "        R2_square   MSE_ERROR\n",
              "model1  -0.110599  938.272870\n",
              "model2  -0.048452  885.768785\n",
              "model3  -0.021975  863.400045\n",
              "model4  -0.022896  864.178437"
            ]
          },
          "metadata": {
            "tags": []
          },
          "execution_count": 33
        }
      ]
    }
  ]
}