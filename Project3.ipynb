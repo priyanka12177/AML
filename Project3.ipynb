{
  "nbformat": 4,
  "nbformat_minor": 0,
  "metadata": {
    "colab": {
      "name": "Project3.ipynb",
      "provenance": [],
      "collapsed_sections": [],
      "authorship_tag": "ABX9TyOzC9NaJVkBPsripCAPVXKB",
      "include_colab_link": true
    },
    "kernelspec": {
      "name": "python3",
      "display_name": "Python 3"
    },
    "language_info": {
      "name": "python"
    }
  },
  "cells": [
    {
      "cell_type": "markdown",
      "metadata": {
        "id": "view-in-github",
        "colab_type": "text"
      },
      "source": [
        "<a href=\"https://colab.research.google.com/github/priyanka12177/AML/blob/Project3/Project3.ipynb\" target=\"_parent\"><img src=\"https://colab.research.google.com/assets/colab-badge.svg\" alt=\"Open In Colab\"/></a>"
      ]
    },
    {
      "cell_type": "code",
      "metadata": {
        "id": "7NRDfVcRxJ7Q"
      },
      "source": [
        "# Pandas is mainly used for data analysis. Pandas allows importing data from various file formats \n",
        "# such as comma-separated values, JSON, SQL, Microsoft Excel. \n",
        "# Pandas allows various data manipulation operations such as merging, reshaping, selecting, \n",
        "# as well as data cleaning, and data wrangling features.\n",
        "# NumPy has support for large, multi-dimensional arrays and matrices, along with \n",
        "# a large collection of high-level mathematical functions to operate on these arrays.\n",
        "# Import matplotlib  to visualize the data\n",
        "import matplotlib.pyplot as plt\n",
        "import numpy as np\n",
        "import pandas as pd"
      ],
      "execution_count": 1,
      "outputs": []
    },
    {
      "cell_type": "code",
      "metadata": {
        "id": "uisDY6QpxX_9"
      },
      "source": [
        "#Read Zip file from github into a dataframe\n",
        "#Heart disease data set\n",
        "df = pd.read_csv('https://raw.githubusercontent.com/priyanka12177/AML/Project3/heart.csv')"
      ],
      "execution_count": 2,
      "outputs": []
    },
    {
      "cell_type": "code",
      "metadata": {
        "colab": {
          "base_uri": "https://localhost:8080/",
          "height": 202
        },
        "id": "pNf1QjX1xpa6",
        "outputId": "0ef98a0b-6d39-41a2-db48-c38979105c72"
      },
      "source": [
        "#head function is used to get the first 5 rows which displays the columns and data\n",
        "df.head()\n"
      ],
      "execution_count": 3,
      "outputs": [
        {
          "output_type": "execute_result",
          "data": {
            "text/html": [
              "<div>\n",
              "<style scoped>\n",
              "    .dataframe tbody tr th:only-of-type {\n",
              "        vertical-align: middle;\n",
              "    }\n",
              "\n",
              "    .dataframe tbody tr th {\n",
              "        vertical-align: top;\n",
              "    }\n",
              "\n",
              "    .dataframe thead th {\n",
              "        text-align: right;\n",
              "    }\n",
              "</style>\n",
              "<table border=\"1\" class=\"dataframe\">\n",
              "  <thead>\n",
              "    <tr style=\"text-align: right;\">\n",
              "      <th></th>\n",
              "      <th>age</th>\n",
              "      <th>sex</th>\n",
              "      <th>cp</th>\n",
              "      <th>trestbps</th>\n",
              "      <th>chol</th>\n",
              "      <th>fbs</th>\n",
              "      <th>restecg</th>\n",
              "      <th>thalach</th>\n",
              "      <th>exang</th>\n",
              "      <th>oldpeak</th>\n",
              "      <th>slope</th>\n",
              "      <th>ca</th>\n",
              "      <th>thal</th>\n",
              "      <th>target</th>\n",
              "    </tr>\n",
              "  </thead>\n",
              "  <tbody>\n",
              "    <tr>\n",
              "      <th>0</th>\n",
              "      <td>63</td>\n",
              "      <td>1</td>\n",
              "      <td>3</td>\n",
              "      <td>145</td>\n",
              "      <td>233</td>\n",
              "      <td>1</td>\n",
              "      <td>0</td>\n",
              "      <td>150</td>\n",
              "      <td>0</td>\n",
              "      <td>2.3</td>\n",
              "      <td>0</td>\n",
              "      <td>0</td>\n",
              "      <td>1</td>\n",
              "      <td>1</td>\n",
              "    </tr>\n",
              "    <tr>\n",
              "      <th>1</th>\n",
              "      <td>37</td>\n",
              "      <td>1</td>\n",
              "      <td>2</td>\n",
              "      <td>130</td>\n",
              "      <td>250</td>\n",
              "      <td>0</td>\n",
              "      <td>1</td>\n",
              "      <td>187</td>\n",
              "      <td>0</td>\n",
              "      <td>3.5</td>\n",
              "      <td>0</td>\n",
              "      <td>0</td>\n",
              "      <td>2</td>\n",
              "      <td>1</td>\n",
              "    </tr>\n",
              "    <tr>\n",
              "      <th>2</th>\n",
              "      <td>41</td>\n",
              "      <td>0</td>\n",
              "      <td>1</td>\n",
              "      <td>130</td>\n",
              "      <td>204</td>\n",
              "      <td>0</td>\n",
              "      <td>0</td>\n",
              "      <td>172</td>\n",
              "      <td>0</td>\n",
              "      <td>1.4</td>\n",
              "      <td>2</td>\n",
              "      <td>0</td>\n",
              "      <td>2</td>\n",
              "      <td>1</td>\n",
              "    </tr>\n",
              "    <tr>\n",
              "      <th>3</th>\n",
              "      <td>56</td>\n",
              "      <td>1</td>\n",
              "      <td>1</td>\n",
              "      <td>120</td>\n",
              "      <td>236</td>\n",
              "      <td>0</td>\n",
              "      <td>1</td>\n",
              "      <td>178</td>\n",
              "      <td>0</td>\n",
              "      <td>0.8</td>\n",
              "      <td>2</td>\n",
              "      <td>0</td>\n",
              "      <td>2</td>\n",
              "      <td>1</td>\n",
              "    </tr>\n",
              "    <tr>\n",
              "      <th>4</th>\n",
              "      <td>57</td>\n",
              "      <td>0</td>\n",
              "      <td>0</td>\n",
              "      <td>120</td>\n",
              "      <td>354</td>\n",
              "      <td>0</td>\n",
              "      <td>1</td>\n",
              "      <td>163</td>\n",
              "      <td>1</td>\n",
              "      <td>0.6</td>\n",
              "      <td>2</td>\n",
              "      <td>0</td>\n",
              "      <td>2</td>\n",
              "      <td>1</td>\n",
              "    </tr>\n",
              "  </tbody>\n",
              "</table>\n",
              "</div>"
            ],
            "text/plain": [
              "   age  sex  cp  trestbps  chol  fbs  ...  exang  oldpeak  slope  ca  thal  target\n",
              "0   63    1   3       145   233    1  ...      0      2.3      0   0     1       1\n",
              "1   37    1   2       130   250    0  ...      0      3.5      0   0     2       1\n",
              "2   41    0   1       130   204    0  ...      0      1.4      2   0     2       1\n",
              "3   56    1   1       120   236    0  ...      0      0.8      2   0     2       1\n",
              "4   57    0   0       120   354    0  ...      1      0.6      2   0     2       1\n",
              "\n",
              "[5 rows x 14 columns]"
            ]
          },
          "metadata": {
            "tags": []
          },
          "execution_count": 3
        }
      ]
    },
    {
      "cell_type": "code",
      "metadata": {
        "colab": {
          "base_uri": "https://localhost:8080/"
        },
        "id": "FsUDj5yytqJA",
        "outputId": "2a261aa3-2bf7-46b2-c3bb-f2af222f7714"
      },
      "source": [
        "# the size of the dataset\n",
        "df.shape"
      ],
      "execution_count": 4,
      "outputs": [
        {
          "output_type": "execute_result",
          "data": {
            "text/plain": [
              "(303, 14)"
            ]
          },
          "metadata": {
            "tags": []
          },
          "execution_count": 4
        }
      ]
    },
    {
      "cell_type": "code",
      "metadata": {
        "colab": {
          "base_uri": "https://localhost:8080/"
        },
        "id": "cSuyiET3FHW8",
        "outputId": "df991feb-2626-4a51-b62c-d08b6b46cb65"
      },
      "source": [
        "#filtering the dataframe with target value equals 1 \n",
        "df2=df[df['target']==1]\n",
        "df2.shape"
      ],
      "execution_count": 5,
      "outputs": [
        {
          "output_type": "execute_result",
          "data": {
            "text/plain": [
              "(165, 14)"
            ]
          },
          "metadata": {
            "tags": []
          },
          "execution_count": 5
        }
      ]
    },
    {
      "cell_type": "code",
      "metadata": {
        "colab": {
          "base_uri": "https://localhost:8080/"
        },
        "id": "jVwpDeQdHkz8",
        "outputId": "9eebf317-a1f5-4bb8-dfb1-f3885c7408e7"
      },
      "source": [
        "#filtering the dataframe with target value equals 0 \n",
        "df3=df[df['target']==0]\n",
        "df3.shape"
      ],
      "execution_count": 6,
      "outputs": [
        {
          "output_type": "execute_result",
          "data": {
            "text/plain": [
              "(138, 14)"
            ]
          },
          "metadata": {
            "tags": []
          },
          "execution_count": 6
        }
      ]
    },
    {
      "cell_type": "code",
      "metadata": {
        "colab": {
          "base_uri": "https://localhost:8080/",
          "height": 281
        },
        "id": "P7apo03z51QP",
        "outputId": "a44a5c38-27e4-485b-b22e-9ae81f43e892"
      },
      "source": [
        "#scatterplot of age and sex with respect to target class which has only values 0\n",
        "plt.scatter(df2['age'], df2['sex'],color = 'orange',label='0')\n",
        "\n",
        "#scatterplot of age and sex with respect to target class which has only values 1\n",
        "plt.scatter(df3['age'], df3['sex'], color = 'blue',label='1')\n",
        "\n",
        "#title of the scatter plot\n",
        "plt.title('age versus sex with target class')\n",
        "\n",
        "#legend is used to display the labels\n",
        "plt.legend(loc=5)\n",
        "\n",
        "plt.show()\n",
        "\n"
      ],
      "execution_count": 7,
      "outputs": [
        {
          "output_type": "display_data",
          "data": {
            "image/png": "[encoded data removed]",
            "text/plain": [
              "<Figure size 432x288 with 1 Axes>"
            ]
          },
          "metadata": {
            "tags": [],
            "needs_background": "light"
          }
        }
      ]
    },
    {
      "cell_type": "code",
      "metadata": {
        "colab": {
          "base_uri": "https://localhost:8080/",
          "height": 329
        },
        "id": "RdMZs7BZJjBr",
        "outputId": "c110639a-0f04-49ff-d4ec-d7b6f767f2a8"
      },
      "source": [
        "#perfoming pair-wise Pearson correlation of all the values in the dataframe  with respect to target\n",
        "\n",
        "dfcorr=pd.DataFrame(df.corr(method='pearson') ['target'])\n",
        "\n",
        "#heat map of correlation values with respect to target column\n",
        "dfcorr.style.background_gradient(cmap='coolwarm', axis=None)\n"
      ],
      "execution_count": 8,
      "outputs": [
        {
          "output_type": "execute_result",
          "data": {
            "text/html": [
              "<style  type=\"text/css\" >\n",
              "#T_cea67474_a17c_11eb_a389_0242ac1c0002row0_col0{\n",
              "            background-color:  #688aef;\n",
              "            color:  #000000;\n",
              "        }#T_cea67474_a17c_11eb_a389_0242ac1c0002row1_col0{\n",
              "            background-color:  #5b7ae5;\n",
              "            color:  #000000;\n",
              "        }#T_cea67474_a17c_11eb_a389_0242ac1c0002row2_col0{\n",
              "            background-color:  #f2c9b4;\n",
              "            color:  #000000;\n",
              "        }#T_cea67474_a17c_11eb_a389_0242ac1c0002row3_col0{\n",
              "            background-color:  #7b9ff9;\n",
              "            color:  #000000;\n",
              "        }#T_cea67474_a17c_11eb_a389_0242ac1c0002row4_col0{\n",
              "            background-color:  #8badfd;\n",
              "            color:  #000000;\n",
              "        }#T_cea67474_a17c_11eb_a389_0242ac1c0002row5_col0{\n",
              "            background-color:  #98b9ff;\n",
              "            color:  #000000;\n",
              "        }#T_cea67474_a17c_11eb_a389_0242ac1c0002row6_col0{\n",
              "            background-color:  #c0d4f5;\n",
              "            color:  #000000;\n",
              "        }#T_cea67474_a17c_11eb_a389_0242ac1c0002row7_col0{\n",
              "            background-color:  #f1ccb8;\n",
              "            color:  #000000;\n",
              "        }#T_cea67474_a17c_11eb_a389_0242ac1c0002row8_col0{\n",
              "            background-color:  #3b4cc0;\n",
              "            color:  #f1f1f1;\n",
              "        }#T_cea67474_a17c_11eb_a389_0242ac1c0002row9_col0{\n",
              "            background-color:  #3c4ec2;\n",
              "            color:  #f1f1f1;\n",
              "        }#T_cea67474_a17c_11eb_a389_0242ac1c0002row10_col0{\n",
              "            background-color:  #e8d6cc;\n",
              "            color:  #000000;\n",
              "        }#T_cea67474_a17c_11eb_a389_0242ac1c0002row11_col0{\n",
              "            background-color:  #445acc;\n",
              "            color:  #f1f1f1;\n",
              "        }#T_cea67474_a17c_11eb_a389_0242ac1c0002row12_col0{\n",
              "            background-color:  #4e68d8;\n",
              "            color:  #000000;\n",
              "        }#T_cea67474_a17c_11eb_a389_0242ac1c0002row13_col0{\n",
              "            background-color:  #b40426;\n",
              "            color:  #f1f1f1;\n",
              "        }</style><table id=\"T_cea67474_a17c_11eb_a389_0242ac1c0002\" ><thead>    <tr>        <th class=\"blank level0\" ></th>        <th class=\"col_heading level0 col0\" >target</th>    </tr></thead><tbody>\n",
              "                <tr>\n",
              "                        <th id=\"T_cea67474_a17c_11eb_a389_0242ac1c0002level0_row0\" class=\"row_heading level0 row0\" >age</th>\n",
              "                        <td id=\"T_cea67474_a17c_11eb_a389_0242ac1c0002row0_col0\" class=\"data row0 col0\" >-0.225439</td>\n",
              "            </tr>\n",
              "            <tr>\n",
              "                        <th id=\"T_cea67474_a17c_11eb_a389_0242ac1c0002level0_row1\" class=\"row_heading level0 row1\" >sex</th>\n",
              "                        <td id=\"T_cea67474_a17c_11eb_a389_0242ac1c0002row1_col0\" class=\"data row1 col0\" >-0.280937</td>\n",
              "            </tr>\n",
              "            <tr>\n",
              "                        <th id=\"T_cea67474_a17c_11eb_a389_0242ac1c0002level0_row2\" class=\"row_heading level0 row2\" >cp</th>\n",
              "                        <td id=\"T_cea67474_a17c_11eb_a389_0242ac1c0002row2_col0\" class=\"data row2 col0\" >0.433798</td>\n",
              "            </tr>\n",
              "            <tr>\n",
              "                        <th id=\"T_cea67474_a17c_11eb_a389_0242ac1c0002level0_row3\" class=\"row_heading level0 row3\" >trestbps</th>\n",
              "                        <td id=\"T_cea67474_a17c_11eb_a389_0242ac1c0002row3_col0\" class=\"data row3 col0\" >-0.144931</td>\n",
              "            </tr>\n",
              "            <tr>\n",
              "                        <th id=\"T_cea67474_a17c_11eb_a389_0242ac1c0002level0_row4\" class=\"row_heading level0 row4\" >chol</th>\n",
              "                        <td id=\"T_cea67474_a17c_11eb_a389_0242ac1c0002row4_col0\" class=\"data row4 col0\" >-0.085239</td>\n",
              "            </tr>\n",
              "            <tr>\n",
              "                        <th id=\"T_cea67474_a17c_11eb_a389_0242ac1c0002level0_row5\" class=\"row_heading level0 row5\" >fbs</th>\n",
              "                        <td id=\"T_cea67474_a17c_11eb_a389_0242ac1c0002row5_col0\" class=\"data row5 col0\" >-0.028046</td>\n",
              "            </tr>\n",
              "            <tr>\n",
              "                        <th id=\"T_cea67474_a17c_11eb_a389_0242ac1c0002level0_row6\" class=\"row_heading level0 row6\" >restecg</th>\n",
              "                        <td id=\"T_cea67474_a17c_11eb_a389_0242ac1c0002row6_col0\" class=\"data row6 col0\" >0.137230</td>\n",
              "            </tr>\n",
              "            <tr>\n",
              "                        <th id=\"T_cea67474_a17c_11eb_a389_0242ac1c0002level0_row7\" class=\"row_heading level0 row7\" >thalach</th>\n",
              "                        <td id=\"T_cea67474_a17c_11eb_a389_0242ac1c0002row7_col0\" class=\"data row7 col0\" >0.421741</td>\n",
              "            </tr>\n",
              "            <tr>\n",
              "                        <th id=\"T_cea67474_a17c_11eb_a389_0242ac1c0002level0_row8\" class=\"row_heading level0 row8\" >exang</th>\n",
              "                        <td id=\"T_cea67474_a17c_11eb_a389_0242ac1c0002row8_col0\" class=\"data row8 col0\" >-0.436757</td>\n",
              "            </tr>\n",
              "            <tr>\n",
              "                        <th id=\"T_cea67474_a17c_11eb_a389_0242ac1c0002level0_row9\" class=\"row_heading level0 row9\" >oldpeak</th>\n",
              "                        <td id=\"T_cea67474_a17c_11eb_a389_0242ac1c0002row9_col0\" class=\"data row9 col0\" >-0.430696</td>\n",
              "            </tr>\n",
              "            <tr>\n",
              "                        <th id=\"T_cea67474_a17c_11eb_a389_0242ac1c0002level0_row10\" class=\"row_heading level0 row10\" >slope</th>\n",
              "                        <td id=\"T_cea67474_a17c_11eb_a389_0242ac1c0002row10_col0\" class=\"data row10 col0\" >0.345877</td>\n",
              "            </tr>\n",
              "            <tr>\n",
              "                        <th id=\"T_cea67474_a17c_11eb_a389_0242ac1c0002level0_row11\" class=\"row_heading level0 row11\" >ca</th>\n",
              "                        <td id=\"T_cea67474_a17c_11eb_a389_0242ac1c0002row11_col0\" class=\"data row11 col0\" >-0.391724</td>\n",
              "            </tr>\n",
              "            <tr>\n",
              "                        <th id=\"T_cea67474_a17c_11eb_a389_0242ac1c0002level0_row12\" class=\"row_heading level0 row12\" >thal</th>\n",
              "                        <td id=\"T_cea67474_a17c_11eb_a389_0242ac1c0002row12_col0\" class=\"data row12 col0\" >-0.344029</td>\n",
              "            </tr>\n",
              "            <tr>\n",
              "                        <th id=\"T_cea67474_a17c_11eb_a389_0242ac1c0002level0_row13\" class=\"row_heading level0 row13\" >target</th>\n",
              "                        <td id=\"T_cea67474_a17c_11eb_a389_0242ac1c0002row13_col0\" class=\"data row13 col0\" >1.000000</td>\n",
              "            </tr>\n",
              "    </tbody></table>"
            ],
            "text/plain": [
              "<pandas.io.formats.style.Styler at 0x7f482ec51150>"
            ]
          },
          "metadata": {
            "tags": []
          },
          "execution_count": 8
        }
      ]
    },
    {
      "cell_type": "code",
      "metadata": {
        "colab": {
          "base_uri": "https://localhost:8080/"
        },
        "id": "HA89nh6-MgWU",
        "outputId": "5ae49901-e924-4f7d-cef5-a42f62d8a0b4"
      },
      "source": [
        "#checking missing values for all the columns in the dataframe\n",
        "df.isnull().sum().sort_values( ascending=False)\n",
        "\n",
        "#As there are no missing values there is no need of imputation"
      ],
      "execution_count": 9,
      "outputs": [
        {
          "output_type": "execute_result",
          "data": {
            "text/plain": [
              "target      0\n",
              "thal        0\n",
              "ca          0\n",
              "slope       0\n",
              "oldpeak     0\n",
              "exang       0\n",
              "thalach     0\n",
              "restecg     0\n",
              "fbs         0\n",
              "chol        0\n",
              "trestbps    0\n",
              "cp          0\n",
              "sex         0\n",
              "age         0\n",
              "dtype: int64"
            ]
          },
          "metadata": {
            "tags": []
          },
          "execution_count": 9
        }
      ]
    },
    {
      "cell_type": "code",
      "metadata": {
        "id": "K2dlV55aSSU2"
      },
      "source": [
        "#Assigning input variables to X by excluding target column\n",
        "X = df.drop('target', axis=1)\n",
        "\n",
        "#Assigning target variables to Y\n",
        "Y = df['target']"
      ],
      "execution_count": 10,
      "outputs": []
    },
    {
      "cell_type": "code",
      "metadata": {
        "colab": {
          "base_uri": "https://localhost:8080/"
        },
        "id": "8gZxR8ewNv2s",
        "outputId": "c85bc74d-727b-450d-f487-cae8b87257b0"
      },
      "source": [
        "# Dataset is split into training by 80% and testing  with 20% \n",
        "from sklearn.model_selection import train_test_split\n",
        "\n",
        "X_train, X_test, Y_train, Y_test = train_test_split(X, Y, test_size = 0.20, random_state = 0)\n",
        "\n",
        "# Examine the train and test dataset sizes\n",
        "X_train.shape, X_test.shape"
      ],
      "execution_count": 11,
      "outputs": [
        {
          "output_type": "execute_result",
          "data": {
            "text/plain": [
              "((242, 13), (61, 13))"
            ]
          },
          "metadata": {
            "tags": []
          },
          "execution_count": 11
        }
      ]
    },
    {
      "cell_type": "code",
      "metadata": {
        "colab": {
          "base_uri": "https://localhost:8080/"
        },
        "id": "BWXL5sltNHa4",
        "outputId": "be5c89b6-4b98-4065-ac04-eaabbc731185"
      },
      "source": [
        "#Performing Logistic Regression with classified data set\n",
        "# Parallelize the first classification job over 5 workers\n",
        "# Use Lasso regression \n",
        "# The SAGA solver supports the non-smooth penalty=l1 option (i.e. L1 Regularization).\n",
        "# SAGA is the solver of choice for sparse multinomial logistic regression \n",
        "# and it's also suitable very large datasets.\n",
        "\n",
        "from sklearn.linear_model import LogisticRegression\n",
        "lr_classifier = LogisticRegression(fit_intercept=True,\n",
        "                        multi_class='auto',\n",
        "                        penalty='l1', #lasso regression\n",
        "                        solver='saga',\n",
        "                        max_iter=1000,\n",
        "                        C=50,\n",
        "                        verbose=2, # output progress\n",
        "                        n_jobs=5, # parallelize over 5 processes\n",
        "                        tol=0.01\n",
        "                         )\n",
        "\n",
        "# Fit the model\n",
        "lr_classifier.fit(X_train, Y_train)\n",
        "\n",
        "# Let's see what the classifier has learned\n",
        "lr_classifier.classes_"
      ],
      "execution_count": 12,
      "outputs": [
        {
          "output_type": "stream",
          "text": [
            "convergence after 20 epochs took 0 seconds\n"
          ],
          "name": "stdout"
        },
        {
          "output_type": "stream",
          "text": [
            "[Parallel(n_jobs=5)]: Using backend ThreadingBackend with 5 concurrent workers.\n",
            "[Parallel(n_jobs=5)]: Done   1 out of   1 | elapsed:    0.0s finished\n"
          ],
          "name": "stderr"
        },
        {
          "output_type": "execute_result",
          "data": {
            "text/plain": [
              "array([0, 1])"
            ]
          },
          "metadata": {
            "tags": []
          },
          "execution_count": 12
        }
      ]
    },
    {
      "cell_type": "code",
      "metadata": {
        "colab": {
          "base_uri": "https://localhost:8080/"
        },
        "id": "7yzUwghjIxtS",
        "outputId": "8cbca5f2-d9cb-4371-b501-c0ccb7e2b503"
      },
      "source": [
        "# Accuracy scores on the training and testing sets of Logistic Regression\n",
        "score1 = round(lr_classifier.score(X_train, Y_train), 2) # training score\n",
        "score2 = round(lr_classifier.score(X_test, Y_test), 2)   # testing score\n",
        "\n",
        "print (\"Training and Testing scores: %.2f, %.2f\" %  (score1, score2))"
      ],
      "execution_count": 13,
      "outputs": [
        {
          "output_type": "stream",
          "text": [
            "Training and Testing scores: 0.70, 0.69\n"
          ],
          "name": "stdout"
        }
      ]
    },
    {
      "cell_type": "code",
      "metadata": {
        "colab": {
          "base_uri": "https://localhost:8080/",
          "height": 110
        },
        "id": "XWM8FVbdI-yS",
        "outputId": "1310f294-22ef-413b-ca6e-2327bbd37e71"
      },
      "source": [
        "# The confusion matrix for logistic regression model\n",
        "# importing confusion matrix and classification_report functions\n",
        "from sklearn.metrics import confusion_matrix, classification_report\n",
        "\n",
        "#predicting output for test data\n",
        "lr_predictions = lr_classifier.predict(X_test)\n",
        "\n",
        "#Assigning class to lables\n",
        "labels = lr_classifier.classes_\n",
        "\n",
        "# compute TP, TN, FP, FN values\n",
        "lr_cm = confusion_matrix(y_true=Y_test, \n",
        "                      y_pred = lr_predictions, \n",
        "                      labels = labels)\n",
        "\n",
        "# compute recall, precision, f1-scores\n",
        "lr_cr = classification_report(y_true=Y_test, \n",
        "                      y_pred = lr_predictions, \n",
        "                      labels = labels)\n",
        "\n",
        "# print confusion matrix\n",
        "pd.DataFrame(lr_cm, index=labels, columns=labels)"
      ],
      "execution_count": 14,
      "outputs": [
        {
          "output_type": "execute_result",
          "data": {
            "text/html": [
              "<div>\n",
              "<style scoped>\n",
              "    .dataframe tbody tr th:only-of-type {\n",
              "        vertical-align: middle;\n",
              "    }\n",
              "\n",
              "    .dataframe tbody tr th {\n",
              "        vertical-align: top;\n",
              "    }\n",
              "\n",
              "    .dataframe thead th {\n",
              "        text-align: right;\n",
              "    }\n",
              "</style>\n",
              "<table border=\"1\" class=\"dataframe\">\n",
              "  <thead>\n",
              "    <tr style=\"text-align: right;\">\n",
              "      <th></th>\n",
              "      <th>0</th>\n",
              "      <th>1</th>\n",
              "    </tr>\n",
              "  </thead>\n",
              "  <tbody>\n",
              "    <tr>\n",
              "      <th>0</th>\n",
              "      <td>15</td>\n",
              "      <td>12</td>\n",
              "    </tr>\n",
              "    <tr>\n",
              "      <th>1</th>\n",
              "      <td>7</td>\n",
              "      <td>27</td>\n",
              "    </tr>\n",
              "  </tbody>\n",
              "</table>\n",
              "</div>"
            ],
            "text/plain": [
              "    0   1\n",
              "0  15  12\n",
              "1   7  27"
            ]
          },
          "metadata": {
            "tags": []
          },
          "execution_count": 14
        }
      ]
    },
    {
      "cell_type": "code",
      "metadata": {
        "colab": {
          "base_uri": "https://localhost:8080/",
          "height": 279
        },
        "id": "_QmE6tTzUrY_",
        "outputId": "b0977916-e080-478a-fb6f-80bb14cda98c"
      },
      "source": [
        "#Roc curve for logistic regression\n",
        "#importing plot_roc_curve function\n",
        "from sklearn.metrics import plot_roc_curve\n",
        "ax = plt.gca()\n",
        "rfc_disp = plot_roc_curve(lr_classifier, X_test, Y_test, ax=ax)\n",
        "#diplaying the roc curve\n",
        "plt.show()"
      ],
      "execution_count": 15,
      "outputs": [
        {
          "output_type": "display_data",
          "data": {
            "image/png": "[encoded data removed]",
            "text/plain": [
              "<Figure size 432x288 with 1 Axes>"
            ]
          },
          "metadata": {
            "tags": [],
            "needs_background": "light"
          }
        }
      ]
    },
    {
      "cell_type": "code",
      "metadata": {
        "colab": {
          "base_uri": "https://localhost:8080/"
        },
        "id": "YV_aY8SaJRYV",
        "outputId": "41967321-9df2-44f5-cbdc-dd746ef87d26"
      },
      "source": [
        "# SGD classifier\n",
        "# Parallelize the job over 5 workers\n",
        "#importing SGDClassifier function\n",
        "#use l1 penality as default l2 is not fitting properly\n",
        "\n",
        "from sklearn.linear_model import SGDClassifier\n",
        "\n",
        "sgd_classifier = SGDClassifier(max_iter=1000, penalty = 'l1',\n",
        "                        tol=1e-3, \n",
        "                        random_state=42,\n",
        "                        n_jobs=5, # parallelize over 5 workers\n",
        "                        )\n",
        "\n",
        "# Fit the model\n",
        "sgd_classifier.fit(X_train, Y_train)"
      ],
      "execution_count": 16,
      "outputs": [
        {
          "output_type": "execute_result",
          "data": {
            "text/plain": [
              "SGDClassifier(alpha=0.0001, average=False, class_weight=None,\n",
              "              early_stopping=False, epsilon=0.1, eta0=0.0, fit_intercept=True,\n",
              "              l1_ratio=0.15, learning_rate='optimal', loss='hinge',\n",
              "              max_iter=1000, n_iter_no_change=5, n_jobs=5, penalty='l1',\n",
              "              power_t=0.5, random_state=42, shuffle=True, tol=0.001,\n",
              "              validation_fraction=0.1, verbose=0, warm_start=False)"
            ]
          },
          "metadata": {
            "tags": []
          },
          "execution_count": 16
        }
      ]
    },
    {
      "cell_type": "code",
      "metadata": {
        "colab": {
          "base_uri": "https://localhost:8080/"
        },
        "id": "tRXmabhAJZht",
        "outputId": "87dbbf0b-1de8-40e1-fc79-eb62e0190fba"
      },
      "source": [
        "\n",
        "# Accuracy scores on the training and testing sets of SGD classifier\n",
        "\n",
        "score3 = round(sgd_classifier.score(X_train, Y_train), 2) # training score\n",
        "score4 = round(sgd_classifier.score(X_test, Y_test), 2)   # testing score\n",
        "\n",
        "print (\"Training and Testing scores: %.2f, %.2f\" %  (score3, score4))"
      ],
      "execution_count": 17,
      "outputs": [
        {
          "output_type": "stream",
          "text": [
            "Training and Testing scores: 0.76, 0.77\n"
          ],
          "name": "stdout"
        }
      ]
    },
    {
      "cell_type": "code",
      "metadata": {
        "colab": {
          "base_uri": "https://localhost:8080/",
          "height": 110
        },
        "id": "t90V0hPsJhxK",
        "outputId": "f3389469-1d65-4592-bb0c-7e4560207aca"
      },
      "source": [
        "# confusion matrix for SGD classifier model\n",
        "\n",
        "#predicting output for test data\n",
        "sgd_predictions = sgd_classifier.predict(X_test)\n",
        "\n",
        "#Assigning class to lables\n",
        "labels = sgd_classifier.classes_\n",
        "\n",
        "# compute TP, TN, FP, FN values\n",
        "sgd_cm = confusion_matrix(y_true=Y_test, \n",
        "                      y_pred = sgd_predictions, \n",
        "                      labels = labels)\n",
        "\n",
        "# compute recall, precision, f1-scores\n",
        "sgd_cr = classification_report(y_true=Y_test, \n",
        "                      y_pred = sgd_predictions, \n",
        "                      labels = labels)\n",
        "\n",
        "# print confusion matrix\n",
        "pd.DataFrame(sgd_cm, index=labels, columns=labels)"
      ],
      "execution_count": 18,
      "outputs": [
        {
          "output_type": "execute_result",
          "data": {
            "text/html": [
              "<div>\n",
              "<style scoped>\n",
              "    .dataframe tbody tr th:only-of-type {\n",
              "        vertical-align: middle;\n",
              "    }\n",
              "\n",
              "    .dataframe tbody tr th {\n",
              "        vertical-align: top;\n",
              "    }\n",
              "\n",
              "    .dataframe thead th {\n",
              "        text-align: right;\n",
              "    }\n",
              "</style>\n",
              "<table border=\"1\" class=\"dataframe\">\n",
              "  <thead>\n",
              "    <tr style=\"text-align: right;\">\n",
              "      <th></th>\n",
              "      <th>0</th>\n",
              "      <th>1</th>\n",
              "    </tr>\n",
              "  </thead>\n",
              "  <tbody>\n",
              "    <tr>\n",
              "      <th>0</th>\n",
              "      <td>19</td>\n",
              "      <td>8</td>\n",
              "    </tr>\n",
              "    <tr>\n",
              "      <th>1</th>\n",
              "      <td>6</td>\n",
              "      <td>28</td>\n",
              "    </tr>\n",
              "  </tbody>\n",
              "</table>\n",
              "</div>"
            ],
            "text/plain": [
              "    0   1\n",
              "0  19   8\n",
              "1   6  28"
            ]
          },
          "metadata": {
            "tags": []
          },
          "execution_count": 18
        }
      ]
    },
    {
      "cell_type": "code",
      "metadata": {
        "colab": {
          "base_uri": "https://localhost:8080/",
          "height": 279
        },
        "id": "uMJJM0ASXOjz",
        "outputId": "2ab2a7dc-8a06-4ee6-8af9-e92769716477"
      },
      "source": [
        "#Roc curve for SGD classifier model\n",
        "#importing plot_roc_curve function\n",
        "from sklearn.metrics import plot_roc_curve\n",
        "ax = plt.gca()\n",
        "\n",
        "rfc_disp = plot_roc_curve(sgd_classifier, X_test, Y_test, ax=ax)\n",
        "\n",
        "#display the ROC curve\n",
        "plt.show()"
      ],
      "execution_count": 19,
      "outputs": [
        {
          "output_type": "display_data",
          "data": {
            "image/png": "[encoded data removed]",
            "text/plain": [
              "<Figure size 432x288 with 1 Axes>"
            ]
          },
          "metadata": {
            "tags": [],
            "needs_background": "light"
          }
        }
      ]
    },
    {
      "cell_type": "code",
      "metadata": {
        "colab": {
          "base_uri": "https://localhost:8080/"
        },
        "id": "zOdu0-lLJq2K",
        "outputId": "9e25afcd-fa38-45de-ab92-b2928ae09e45"
      },
      "source": [
        "# RandomForestClassifier classification model\n",
        "#import RandomForestClassifier function\n",
        "# Parallelize the job over 5 workers\n",
        "from sklearn.ensemble import RandomForestClassifier \n",
        "\n",
        "rf_classifier = RandomForestClassifier(n_estimators=1000,\n",
        "                                       n_jobs=5,\n",
        "                                       max_features=3)\n",
        "\n",
        "# Fit the model\n",
        "rf_classifier.fit(X_train, Y_train)"
      ],
      "execution_count": 20,
      "outputs": [
        {
          "output_type": "execute_result",
          "data": {
            "text/plain": [
              "RandomForestClassifier(bootstrap=True, ccp_alpha=0.0, class_weight=None,\n",
              "                       criterion='gini', max_depth=None, max_features=3,\n",
              "                       max_leaf_nodes=None, max_samples=None,\n",
              "                       min_impurity_decrease=0.0, min_impurity_split=None,\n",
              "                       min_samples_leaf=1, min_samples_split=2,\n",
              "                       min_weight_fraction_leaf=0.0, n_estimators=1000,\n",
              "                       n_jobs=5, oob_score=False, random_state=None, verbose=0,\n",
              "                       warm_start=False)"
            ]
          },
          "metadata": {
            "tags": []
          },
          "execution_count": 20
        }
      ]
    },
    {
      "cell_type": "code",
      "metadata": {
        "colab": {
          "base_uri": "https://localhost:8080/"
        },
        "id": "4CN7iC-_Jz7T",
        "outputId": "493aa15b-7751-4083-95a1-2666cc30de61"
      },
      "source": [
        "# Accuracy scores on the training and testing sets of RandomForestClassifier model\n",
        "\n",
        "score5 = round(rf_classifier.score(X_train, Y_train), 2) # training score\n",
        "score6 = round(rf_classifier.score(X_test, Y_test), 2)   # testing score\n",
        "\n",
        "print (\"Training and Testing scores: %.2f, %.2f\" %  (score5, score6))\n",
        "# Model might be over fitting as it performed well on training data and but performance decreased on test data"
      ],
      "execution_count": 21,
      "outputs": [
        {
          "output_type": "stream",
          "text": [
            "Training and Testing scores: 1.00, 0.87\n"
          ],
          "name": "stdout"
        }
      ]
    },
    {
      "cell_type": "code",
      "metadata": {
        "colab": {
          "base_uri": "https://localhost:8080/",
          "height": 110
        },
        "id": "RxTbZk-aA4hL",
        "outputId": "030d963c-5794-4b97-ce64-127819fa8b2f"
      },
      "source": [
        "#confusion matrix of RandomForestClassifier model\n",
        "\n",
        "#predicting output for test data\n",
        "RandomForest_predictions = rf_classifier.predict(X_test)\n",
        "\n",
        "#Assigning class to lables\n",
        "labels = rf_classifier.classes_\n",
        "\n",
        "# compute TP, TN, FP, FN values\n",
        "RF_cm = confusion_matrix(y_true=Y_test, \n",
        "                      y_pred = RandomForest_predictions, \n",
        "                      labels = labels)\n",
        "\n",
        "# compute recall, precision, f1-scores\n",
        "RF_cr = classification_report(y_true=Y_test, \n",
        "                      y_pred = RandomForest_predictions, \n",
        "                      labels = labels)\n",
        "\n",
        "# print confusion matrix\n",
        "pd.DataFrame(RF_cm, index=labels, columns=labels)"
      ],
      "execution_count": 22,
      "outputs": [
        {
          "output_type": "execute_result",
          "data": {
            "text/html": [
              "<div>\n",
              "<style scoped>\n",
              "    .dataframe tbody tr th:only-of-type {\n",
              "        vertical-align: middle;\n",
              "    }\n",
              "\n",
              "    .dataframe tbody tr th {\n",
              "        vertical-align: top;\n",
              "    }\n",
              "\n",
              "    .dataframe thead th {\n",
              "        text-align: right;\n",
              "    }\n",
              "</style>\n",
              "<table border=\"1\" class=\"dataframe\">\n",
              "  <thead>\n",
              "    <tr style=\"text-align: right;\">\n",
              "      <th></th>\n",
              "      <th>0</th>\n",
              "      <th>1</th>\n",
              "    </tr>\n",
              "  </thead>\n",
              "  <tbody>\n",
              "    <tr>\n",
              "      <th>0</th>\n",
              "      <td>22</td>\n",
              "      <td>5</td>\n",
              "    </tr>\n",
              "    <tr>\n",
              "      <th>1</th>\n",
              "      <td>3</td>\n",
              "      <td>31</td>\n",
              "    </tr>\n",
              "  </tbody>\n",
              "</table>\n",
              "</div>"
            ],
            "text/plain": [
              "    0   1\n",
              "0  22   5\n",
              "1   3  31"
            ]
          },
          "metadata": {
            "tags": []
          },
          "execution_count": 22
        }
      ]
    },
    {
      "cell_type": "code",
      "metadata": {
        "colab": {
          "base_uri": "https://localhost:8080/",
          "height": 279
        },
        "id": "gc5Mefndb3KY",
        "outputId": "de182111-25a9-42a1-a109-56afaca85373"
      },
      "source": [
        "#Roc curve for RandomForestClassifier model\n",
        "#importing plot_roc_curve function\n",
        "from sklearn.metrics import plot_roc_curve\n",
        "ax = plt.gca()\n",
        "rfc_disp = plot_roc_curve(rf_classifier, X_test, Y_test, ax=ax)\n",
        "#display the roc curve\n",
        "plt.show()"
      ],
      "execution_count": 23,
      "outputs": [
        {
          "output_type": "display_data",
          "data": {
            "image/png": "[encoded data removed]",
            "text/plain": [
              "<Figure size 432x288 with 1 Axes>"
            ]
          },
          "metadata": {
            "tags": [],
            "needs_background": "light"
          }
        }
      ]
    },
    {
      "cell_type": "code",
      "metadata": {
        "colab": {
          "base_uri": "https://localhost:8080/",
          "height": 281
        },
        "id": "_mq6WPqJfipr",
        "outputId": "d0241a62-834c-4399-b9a7-d2702a493a85"
      },
      "source": [
        "# Summarize the findings for all models\n",
        "\n",
        "labels = ['LOGISTIC Regression', 'SGD Classifier', 'Random Forest']\n",
        "training_scores = [score1, score3, score5]\n",
        "testing_scores =  [score2, score4, score6]\n",
        "\n",
        "x = np.arange(len(labels))  # the label locations\n",
        "width = 0.35  # the width of the bars\n",
        "\n",
        "fig, ax = plt.subplots()\n",
        "rects1 = ax.bar(x - width/2, training_scores, width, label='Training', color='navy')\n",
        "rects2 = ax.bar(x + width/2, testing_scores, width, label='Testing', color='yellow')\n",
        "\n",
        "# Add some text for labels, title and custom x-axis tick labels, etc.\n",
        "ax.set_ylabel('Model Accuracy')\n",
        "ax.set_xticks(x)\n",
        "ax.set_ylim(0,1)\n",
        "ax.set_xticklabels(labels)\n",
        "ax.legend(bbox_to_anchor = (1.3, 1.0), loc='upper right')\n",
        "\n",
        "plt.title('Model Comparisons')\n",
        "plt.show()"
      ],
      "execution_count": 24,
      "outputs": [
        {
          "output_type": "display_data",
          "data": {
            "image/png": "[encoded data removed]",
            "text/plain": [
              "<Figure size 432x288 with 1 Axes>"
            ]
          },
          "metadata": {
            "tags": [],
            "needs_background": "light"
          }
        }
      ]
    },
    {
      "cell_type": "code",
      "metadata": {
        "id": "fq6LXtg0jwiv"
      },
      "source": [
        "# StandardScale the data\n",
        "#import StandardScaler function\n",
        "from sklearn.preprocessing import StandardScaler\n",
        "\n",
        "# also try MinMaxScaler\n",
        "scaler = StandardScaler()\n",
        "\n",
        "#fit the model\n",
        "scaler.fit(X)\n",
        "\n",
        "#scaled data by performing standardizations\n",
        "scaled_data = scaler.transform(X)\n",
        "\n",
        "#creating data frame from scaled_data array\n",
        "scaled_data2 = pd.DataFrame(scaled_data,columns=X.columns,index=X.index)"
      ],
      "execution_count": 25,
      "outputs": []
    },
    {
      "cell_type": "code",
      "metadata": {
        "id": "0FPPj-Xqk4EB"
      },
      "source": [
        "#Assigning scaled data to variable X1 by excluding target column\n",
        "X1 = scaled_data2\n",
        "\n",
        "#Assigning target variable to Y1\n",
        "Y1 = Y"
      ],
      "execution_count": 26,
      "outputs": []
    },
    {
      "cell_type": "code",
      "metadata": {
        "colab": {
          "base_uri": "https://localhost:8080/"
        },
        "id": "pVhNRJcDlCci",
        "outputId": "2722dce3-0ed2-4a54-9377-63f1e863c768"
      },
      "source": [
        "# Dataset is split into training by 80% and testing  with 20% \n",
        "from sklearn.model_selection import train_test_split\n",
        "\n",
        "X_train, X_test, Y_train, Y_test = train_test_split(X1, Y1, test_size = 0.20, random_state = 0)\n",
        "\n",
        "# Examine the train and test dataset sizes\n",
        "X_train.shape, X_test.shape"
      ],
      "execution_count": 27,
      "outputs": [
        {
          "output_type": "execute_result",
          "data": {
            "text/plain": [
              "((242, 13), (61, 13))"
            ]
          },
          "metadata": {
            "tags": []
          },
          "execution_count": 27
        }
      ]
    },
    {
      "cell_type": "code",
      "metadata": {
        "colab": {
          "base_uri": "https://localhost:8080/"
        },
        "id": "zncb8GfmlQVD",
        "outputId": "528f904a-1bc4-4618-fea9-e762afa217a7"
      },
      "source": [
        "# Performing Logistic Regression with classified data set\n",
        "# Parallelize the first classification job over 5 workers\n",
        "# Use Lasso regression \n",
        "# The SAGA solver supports the non-smooth penalty=l1 option (i.e. L1 Regularization).\n",
        "# SAGA is the solver of choice for sparse multinomial logistic regression \n",
        "# and it's also suitable very large datasets.\n",
        "\n",
        "from sklearn.linear_model import LogisticRegression\n",
        "lr_classifier = LogisticRegression(fit_intercept=True,\n",
        "                        multi_class='auto',\n",
        "                        penalty='l1', #lasso regression\n",
        "                        solver='saga',\n",
        "                        max_iter=1000,\n",
        "                        C=50,\n",
        "                        verbose=2, # output progress\n",
        "                        n_jobs=5, # parallelize over 5 processes\n",
        "                        tol=0.01\n",
        "                         )\n",
        "\n",
        "# Fit the model\n",
        "lr_classifier.fit(X_train, Y_train)\n",
        "\n",
        "# Let's see what the classifier has learned\n",
        "lr_classifier.classes_"
      ],
      "execution_count": 28,
      "outputs": [
        {
          "output_type": "stream",
          "text": [
            "convergence after 10 epochs took 0 seconds\n"
          ],
          "name": "stdout"
        },
        {
          "output_type": "stream",
          "text": [
            "[Parallel(n_jobs=5)]: Using backend ThreadingBackend with 5 concurrent workers.\n",
            "[Parallel(n_jobs=5)]: Done   1 out of   1 | elapsed:    0.0s finished\n"
          ],
          "name": "stderr"
        },
        {
          "output_type": "execute_result",
          "data": {
            "text/plain": [
              "array([0, 1])"
            ]
          },
          "metadata": {
            "tags": []
          },
          "execution_count": 28
        }
      ]
    },
    {
      "cell_type": "code",
      "metadata": {
        "colab": {
          "base_uri": "https://localhost:8080/"
        },
        "id": "uu0cmV1ilaDE",
        "outputId": "8a3fde76-142a-49f3-811d-637e0519930b"
      },
      "source": [
        "# Accuracy scores on the training and testing sets of Logistic Regression\n",
        "score7 = round(lr_classifier.score(X_train, Y_train), 2) # training score\n",
        "score8 = round(lr_classifier.score(X_test, Y_test), 2)   # testing score\n",
        "\n",
        "print (\"Training and Testing scores: %.2f, %.2f\" %  (score7, score8))"
      ],
      "execution_count": 29,
      "outputs": [
        {
          "output_type": "stream",
          "text": [
            "Training and Testing scores: 0.84, 0.84\n"
          ],
          "name": "stdout"
        }
      ]
    },
    {
      "cell_type": "code",
      "metadata": {
        "colab": {
          "base_uri": "https://localhost:8080/"
        },
        "id": "NvLPjb-anisO",
        "outputId": "7a44fbad-b10e-4827-9618-4b953365f220"
      },
      "source": [
        "# SGD classifier\n",
        "# Parallelize the job over 5 workers\n",
        "# importing SGDClassifier function\n",
        "# use l1 penality as default l2 is not fitting properly\n",
        "\n",
        "from sklearn.linear_model import SGDClassifier\n",
        "\n",
        "sgd_classifier = SGDClassifier(max_iter=1000, penalty = 'l1',\n",
        "                        tol=1e-3, \n",
        "                        random_state=42,\n",
        "                        n_jobs=5, # parallelize over 5 workers\n",
        "                        )\n",
        "\n",
        "# Fit the model\n",
        "sgd_classifier.fit(X_train, Y_train)"
      ],
      "execution_count": 30,
      "outputs": [
        {
          "output_type": "execute_result",
          "data": {
            "text/plain": [
              "SGDClassifier(alpha=0.0001, average=False, class_weight=None,\n",
              "              early_stopping=False, epsilon=0.1, eta0=0.0, fit_intercept=True,\n",
              "              l1_ratio=0.15, learning_rate='optimal', loss='hinge',\n",
              "              max_iter=1000, n_iter_no_change=5, n_jobs=5, penalty='l1',\n",
              "              power_t=0.5, random_state=42, shuffle=True, tol=0.001,\n",
              "              validation_fraction=0.1, verbose=0, warm_start=False)"
            ]
          },
          "metadata": {
            "tags": []
          },
          "execution_count": 30
        }
      ]
    },
    {
      "cell_type": "code",
      "metadata": {
        "colab": {
          "base_uri": "https://localhost:8080/"
        },
        "id": "nulHfGPxoUq3",
        "outputId": "63273c00-817a-4ae8-b419-67b70f22a336"
      },
      "source": [
        "# Accuracy scores on the training and testing sets  of SGD classifier\n",
        "\n",
        "score9 = round(sgd_classifier.score(X_train, Y_train), 2) # training score\n",
        "score10 = round(sgd_classifier.score(X_test, Y_test), 2)   # testing score\n",
        "\n",
        "print (\"Training and Testing scores: %.2f, %.2f\" %  (score9, score10))"
      ],
      "execution_count": 31,
      "outputs": [
        {
          "output_type": "stream",
          "text": [
            "Training and Testing scores: 0.77, 0.70\n"
          ],
          "name": "stdout"
        }
      ]
    },
    {
      "cell_type": "code",
      "metadata": {
        "colab": {
          "base_uri": "https://localhost:8080/"
        },
        "id": "r7Tt3X2CpH73",
        "outputId": "e02a0be8-096f-4d86-b475-f1435294d10f"
      },
      "source": [
        "# RandomForestClassifier classification model\n",
        "# import RandomForestClassifier function\n",
        "# Parallelize the job over 5 workers\n",
        "\n",
        "from sklearn.ensemble import RandomForestClassifier \n",
        "\n",
        "rf_classifier = RandomForestClassifier(n_estimators=1000,\n",
        "                                       n_jobs=5,\n",
        "                                       max_features=3)\n",
        "# Fit the model\n",
        "rf_classifier.fit(X_train, Y_train)"
      ],
      "execution_count": 32,
      "outputs": [
        {
          "output_type": "execute_result",
          "data": {
            "text/plain": [
              "RandomForestClassifier(bootstrap=True, ccp_alpha=0.0, class_weight=None,\n",
              "                       criterion='gini', max_depth=None, max_features=3,\n",
              "                       max_leaf_nodes=None, max_samples=None,\n",
              "                       min_impurity_decrease=0.0, min_impurity_split=None,\n",
              "                       min_samples_leaf=1, min_samples_split=2,\n",
              "                       min_weight_fraction_leaf=0.0, n_estimators=1000,\n",
              "                       n_jobs=5, oob_score=False, random_state=None, verbose=0,\n",
              "                       warm_start=False)"
            ]
          },
          "metadata": {
            "tags": []
          },
          "execution_count": 32
        }
      ]
    },
    {
      "cell_type": "code",
      "metadata": {
        "colab": {
          "base_uri": "https://localhost:8080/"
        },
        "id": "lzmDMrzhpSdP",
        "outputId": "b892c84b-0baf-43df-f099-5b485e60e30e"
      },
      "source": [
        "# Accuracy scores on the training and testing sets of RandomForestClassifier model\n",
        "\n",
        "score11 = round(rf_classifier.score(X_train, Y_train), 2) # training score\n",
        "score12 = round(rf_classifier.score(X_test, Y_test), 2)   # testing score\n",
        "\n",
        "print (\"Training and Testing scores: %.2f, %.2f\" %  (score11, score12))"
      ],
      "execution_count": 33,
      "outputs": [
        {
          "output_type": "stream",
          "text": [
            "Training and Testing scores: 1.00, 0.85\n"
          ],
          "name": "stdout"
        }
      ]
    },
    {
      "cell_type": "markdown",
      "metadata": {
        "id": "p-m9a9ga4BrS"
      },
      "source": [
        "**SUMMARY**\n",
        "\n",
        "Side-by-side comparison of the 3 models demonstrates that the Random Forest (RF) model provides the highest classification accuracy on both the training and testing cases. However, such a high classification accuracy on the training set is indicative of high bias, so cross-validation using k folds would be a more appropriate measure of judging the model's true power of prediction. \n",
        "\n",
        "\n",
        "The plotted ROC curve for the model Random Forest (RF) model shows a very large AUC which is another indicator of the model's highest classification accuracy among all three models.\n",
        "\n",
        "After performing standardization on the data we see improvment in the acurracies for all the models as certain variables like chol , trestbs,thalach have large scale compared to other\n",
        "\n",
        "\n",
        "\n",
        "---\n",
        "\n",
        "\n",
        "\n",
        "\n"
      ]
    }
  ]
}