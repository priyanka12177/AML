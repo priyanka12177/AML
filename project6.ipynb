{
  "nbformat": 4,
  "nbformat_minor": 0,
  "metadata": {
    "colab": {
      "name": "project6.ipynb",
      "provenance": [],
      "collapsed_sections": [],
      "authorship_tag": "ABX9TyOSbriYVUbo7BYt6NY/idwR",
      "include_colab_link": true
    },
    "kernelspec": {
      "name": "python3",
      "display_name": "Python 3"
    },
    "language_info": {
      "name": "python"
    }
  },
  "cells": [
    {
      "cell_type": "markdown",
      "metadata": {
        "id": "view-in-github",
        "colab_type": "text"
      },
      "source": [
        "<a href=\"https://colab.research.google.com/github/priyanka12177/AML/blob/Project6/project6.ipynb\" target=\"_parent\"><img src=\"https://colab.research.google.com/assets/colab-badge.svg\" alt=\"Open In Colab\"/></a>"
      ]
    },
    {
      "cell_type": "code",
      "metadata": {
        "id": "OvxGUgjfsPR5"
      },
      "source": [
        "# Pandas is mainly used for data analysis. Pandas allows importing data from various file formats \n",
        "# such as comma-separated values, JSON, SQL, Microsoft Excel. \n",
        "# Pandas allows various data manipulation operations such as merging, reshaping, selecting, \n",
        "# as well as data cleaning, and data wrangling features.\n",
        "# NumPy has support for large, multi-dimensional arrays and matrices, along with \n",
        "# a large collection of high-level mathematical functions to operate on these arrays.\n",
        "# Import matplotlib  to visualize the data\n",
        "import matplotlib.pyplot as plt\n",
        "import numpy as np\n",
        "import pandas as pd"
      ],
      "execution_count": 1,
      "outputs": []
    },
    {
      "cell_type": "code",
      "metadata": {
        "id": "k3CD7Gn_sYsY"
      },
      "source": [
        "# Read  file from github into a dataframe\n",
        "# dataset contains 2126 records of features extracted from Cardiotocogram exams, which were classified by three expert obstetricians \n",
        "df = pd.read_csv('https://raw.githubusercontent.com/priyanka12177/AML/project6/fetal_health.csv')"
      ],
      "execution_count": 2,
      "outputs": []
    },
    {
      "cell_type": "code",
      "metadata": {
        "colab": {
          "base_uri": "https://localhost:8080/",
          "height": 239
        },
        "id": "pwu2sk84sud5",
        "outputId": "21683fdb-5b79-4b99-9e7e-ccab925afa71"
      },
      "source": [
        "# head function is used to get the first 5 rows which displays the columns and data\n",
        "df.head()"
      ],
      "execution_count": 3,
      "outputs": [
        {
          "output_type": "execute_result",
          "data": {
            "text/html": [
              "<div>\n",
              "<style scoped>\n",
              "    .dataframe tbody tr th:only-of-type {\n",
              "        vertical-align: middle;\n",
              "    }\n",
              "\n",
              "    .dataframe tbody tr th {\n",
              "        vertical-align: top;\n",
              "    }\n",
              "\n",
              "    .dataframe thead th {\n",
              "        text-align: right;\n",
              "    }\n",
              "</style>\n",
              "<table border=\"1\" class=\"dataframe\">\n",
              "  <thead>\n",
              "    <tr style=\"text-align: right;\">\n",
              "      <th></th>\n",
              "      <th>baseline value</th>\n",
              "      <th>accelerations</th>\n",
              "      <th>fetal_movement</th>\n",
              "      <th>uterine_contractions</th>\n",
              "      <th>light_decelerations</th>\n",
              "      <th>severe_decelerations</th>\n",
              "      <th>prolongued_decelerations</th>\n",
              "      <th>abnormal_short_term_variability</th>\n",
              "      <th>mean_value_of_short_term_variability</th>\n",
              "      <th>percentage_of_time_with_abnormal_long_term_variability</th>\n",
              "      <th>mean_value_of_long_term_variability</th>\n",
              "      <th>histogram_width</th>\n",
              "      <th>histogram_min</th>\n",
              "      <th>histogram_max</th>\n",
              "      <th>histogram_number_of_peaks</th>\n",
              "      <th>histogram_number_of_zeroes</th>\n",
              "      <th>histogram_mode</th>\n",
              "      <th>histogram_mean</th>\n",
              "      <th>histogram_median</th>\n",
              "      <th>histogram_variance</th>\n",
              "      <th>histogram_tendency</th>\n",
              "      <th>fetal_health</th>\n",
              "    </tr>\n",
              "  </thead>\n",
              "  <tbody>\n",
              "    <tr>\n",
              "      <th>0</th>\n",
              "      <td>120.0</td>\n",
              "      <td>0.000</td>\n",
              "      <td>0.0</td>\n",
              "      <td>0.000</td>\n",
              "      <td>0.000</td>\n",
              "      <td>0.0</td>\n",
              "      <td>0.0</td>\n",
              "      <td>73.0</td>\n",
              "      <td>0.5</td>\n",
              "      <td>43.0</td>\n",
              "      <td>2.4</td>\n",
              "      <td>64.0</td>\n",
              "      <td>62.0</td>\n",
              "      <td>126.0</td>\n",
              "      <td>2.0</td>\n",
              "      <td>0.0</td>\n",
              "      <td>120.0</td>\n",
              "      <td>137.0</td>\n",
              "      <td>121.0</td>\n",
              "      <td>73.0</td>\n",
              "      <td>1.0</td>\n",
              "      <td>2.0</td>\n",
              "    </tr>\n",
              "    <tr>\n",
              "      <th>1</th>\n",
              "      <td>132.0</td>\n",
              "      <td>0.006</td>\n",
              "      <td>0.0</td>\n",
              "      <td>0.006</td>\n",
              "      <td>0.003</td>\n",
              "      <td>0.0</td>\n",
              "      <td>0.0</td>\n",
              "      <td>17.0</td>\n",
              "      <td>2.1</td>\n",
              "      <td>0.0</td>\n",
              "      <td>10.4</td>\n",
              "      <td>130.0</td>\n",
              "      <td>68.0</td>\n",
              "      <td>198.0</td>\n",
              "      <td>6.0</td>\n",
              "      <td>1.0</td>\n",
              "      <td>141.0</td>\n",
              "      <td>136.0</td>\n",
              "      <td>140.0</td>\n",
              "      <td>12.0</td>\n",
              "      <td>0.0</td>\n",
              "      <td>1.0</td>\n",
              "    </tr>\n",
              "    <tr>\n",
              "      <th>2</th>\n",
              "      <td>133.0</td>\n",
              "      <td>0.003</td>\n",
              "      <td>0.0</td>\n",
              "      <td>0.008</td>\n",
              "      <td>0.003</td>\n",
              "      <td>0.0</td>\n",
              "      <td>0.0</td>\n",
              "      <td>16.0</td>\n",
              "      <td>2.1</td>\n",
              "      <td>0.0</td>\n",
              "      <td>13.4</td>\n",
              "      <td>130.0</td>\n",
              "      <td>68.0</td>\n",
              "      <td>198.0</td>\n",
              "      <td>5.0</td>\n",
              "      <td>1.0</td>\n",
              "      <td>141.0</td>\n",
              "      <td>135.0</td>\n",
              "      <td>138.0</td>\n",
              "      <td>13.0</td>\n",
              "      <td>0.0</td>\n",
              "      <td>1.0</td>\n",
              "    </tr>\n",
              "    <tr>\n",
              "      <th>3</th>\n",
              "      <td>134.0</td>\n",
              "      <td>0.003</td>\n",
              "      <td>0.0</td>\n",
              "      <td>0.008</td>\n",
              "      <td>0.003</td>\n",
              "      <td>0.0</td>\n",
              "      <td>0.0</td>\n",
              "      <td>16.0</td>\n",
              "      <td>2.4</td>\n",
              "      <td>0.0</td>\n",
              "      <td>23.0</td>\n",
              "      <td>117.0</td>\n",
              "      <td>53.0</td>\n",
              "      <td>170.0</td>\n",
              "      <td>11.0</td>\n",
              "      <td>0.0</td>\n",
              "      <td>137.0</td>\n",
              "      <td>134.0</td>\n",
              "      <td>137.0</td>\n",
              "      <td>13.0</td>\n",
              "      <td>1.0</td>\n",
              "      <td>1.0</td>\n",
              "    </tr>\n",
              "    <tr>\n",
              "      <th>4</th>\n",
              "      <td>132.0</td>\n",
              "      <td>0.007</td>\n",
              "      <td>0.0</td>\n",
              "      <td>0.008</td>\n",
              "      <td>0.000</td>\n",
              "      <td>0.0</td>\n",
              "      <td>0.0</td>\n",
              "      <td>16.0</td>\n",
              "      <td>2.4</td>\n",
              "      <td>0.0</td>\n",
              "      <td>19.9</td>\n",
              "      <td>117.0</td>\n",
              "      <td>53.0</td>\n",
              "      <td>170.0</td>\n",
              "      <td>9.0</td>\n",
              "      <td>0.0</td>\n",
              "      <td>137.0</td>\n",
              "      <td>136.0</td>\n",
              "      <td>138.0</td>\n",
              "      <td>11.0</td>\n",
              "      <td>1.0</td>\n",
              "      <td>1.0</td>\n",
              "    </tr>\n",
              "  </tbody>\n",
              "</table>\n",
              "</div>"
            ],
            "text/plain": [
              "   baseline value  accelerations  ...  histogram_tendency  fetal_health\n",
              "0           120.0          0.000  ...                 1.0           2.0\n",
              "1           132.0          0.006  ...                 0.0           1.0\n",
              "2           133.0          0.003  ...                 0.0           1.0\n",
              "3           134.0          0.003  ...                 1.0           1.0\n",
              "4           132.0          0.007  ...                 1.0           1.0\n",
              "\n",
              "[5 rows x 22 columns]"
            ]
          },
          "metadata": {
            "tags": []
          },
          "execution_count": 3
        }
      ]
    },
    {
      "cell_type": "code",
      "metadata": {
        "colab": {
          "base_uri": "https://localhost:8080/"
        },
        "id": "lqexs2lls0iP",
        "outputId": "d59a713f-f4a9-4734-e87b-2f84459e0aa8"
      },
      "source": [
        "# info function is used to get the data type information for each column in dataframe\n",
        "df.info()"
      ],
      "execution_count": 4,
      "outputs": [
        {
          "output_type": "stream",
          "text": [
            "<class 'pandas.core.frame.DataFrame'>\n",
            "RangeIndex: 2126 entries, 0 to 2125\n",
            "Data columns (total 22 columns):\n",
            " #   Column                                                  Non-Null Count  Dtype  \n",
            "---  ------                                                  --------------  -----  \n",
            " 0   baseline value                                          2126 non-null   float64\n",
            " 1   accelerations                                           2126 non-null   float64\n",
            " 2   fetal_movement                                          2126 non-null   float64\n",
            " 3   uterine_contractions                                    2126 non-null   float64\n",
            " 4   light_decelerations                                     2126 non-null   float64\n",
            " 5   severe_decelerations                                    2126 non-null   float64\n",
            " 6   prolongued_decelerations                                2126 non-null   float64\n",
            " 7   abnormal_short_term_variability                         2126 non-null   float64\n",
            " 8   mean_value_of_short_term_variability                    2126 non-null   float64\n",
            " 9   percentage_of_time_with_abnormal_long_term_variability  2126 non-null   float64\n",
            " 10  mean_value_of_long_term_variability                     2126 non-null   float64\n",
            " 11  histogram_width                                         2126 non-null   float64\n",
            " 12  histogram_min                                           2126 non-null   float64\n",
            " 13  histogram_max                                           2126 non-null   float64\n",
            " 14  histogram_number_of_peaks                               2126 non-null   float64\n",
            " 15  histogram_number_of_zeroes                              2126 non-null   float64\n",
            " 16  histogram_mode                                          2126 non-null   float64\n",
            " 17  histogram_mean                                          2126 non-null   float64\n",
            " 18  histogram_median                                        2126 non-null   float64\n",
            " 19  histogram_variance                                      2126 non-null   float64\n",
            " 20  histogram_tendency                                      2126 non-null   float64\n",
            " 21  fetal_health                                            2126 non-null   float64\n",
            "dtypes: float64(22)\n",
            "memory usage: 365.5 KB\n"
          ],
          "name": "stdout"
        }
      ]
    },
    {
      "cell_type": "code",
      "metadata": {
        "colab": {
          "base_uri": "https://localhost:8080/",
          "height": 869
        },
        "id": "JDfRZNcmt8V2",
        "outputId": "ef6c814f-368c-4940-de0b-e8af9db6f55a"
      },
      "source": [
        "# defining figure size\n",
        "plt.figure(figsize=(15,10))\n",
        "# perfoming pair-wise Pearson correlation of all the columns in the dataframe \n",
        "import seaborn as sns\n",
        "mask = np.triu(np.ones_like(df.corr(), dtype=bool))\n",
        "#heat map of correlation values \n",
        "g = sns.heatmap(df.corr(),mask = mask, cmap = \"coolwarm\")\n",
        "# prolonged_decelerations,abnormal_short_term_variability,percentage_of_time_with_abnormal_long_term_variability has highest correlation with fetal_health"
      ],
      "execution_count": 5,
      "outputs": [
        {
          "output_type": "display_data",
          "data": {
            "image/png": "[encoded data removed]",
            "text/plain": [
              "<Figure size 1080x720 with 2 Axes>"
            ]
          },
          "metadata": {
            "tags": [],
            "needs_background": "light"
          }
        }
      ]
    },
    {
      "cell_type": "code",
      "metadata": {
        "colab": {
          "base_uri": "https://localhost:8080/"
        },
        "id": "80_BA09hvMH_",
        "outputId": "41efc41c-b580-4d3d-bb7b-13efc2c3a17a"
      },
      "source": [
        "# check the class distribution\n",
        "df['fetal_health'].value_counts()"
      ],
      "execution_count": 6,
      "outputs": [
        {
          "output_type": "execute_result",
          "data": {
            "text/plain": [
              "1.0    1655\n",
              "2.0     295\n",
              "3.0     176\n",
              "Name: fetal_health, dtype: int64"
            ]
          },
          "metadata": {
            "tags": []
          },
          "execution_count": 6
        }
      ]
    },
    {
      "cell_type": "code",
      "metadata": {
        "colab": {
          "base_uri": "https://localhost:8080/",
          "height": 297
        },
        "id": "kJlmcBSAvAhd",
        "outputId": "4748df82-461c-4992-8b4b-fcf236afdee0"
      },
      "source": [
        "# label frequencies \n",
        "# Plotting the frequencies using seaborn package to see how the class is distributed\n",
        "import seaborn as sns\n",
        "sns.countplot(x = 'fetal_health', palette = 'pastel', data=df)"
      ],
      "execution_count": 7,
      "outputs": [
        {
          "output_type": "execute_result",
          "data": {
            "text/plain": [
              "<matplotlib.axes._subplots.AxesSubplot at 0x7f07e167f050>"
            ]
          },
          "metadata": {
            "tags": []
          },
          "execution_count": 7
        },
        {
          "output_type": "display_data",
          "data": {
            "image/png": "[encoded data removed]",
            "text/plain": [
              "<Figure size 432x288 with 1 Axes>"
            ]
          },
          "metadata": {
            "tags": [],
            "needs_background": "light"
          }
        }
      ]
    },
    {
      "cell_type": "code",
      "metadata": {
        "colab": {
          "base_uri": "https://localhost:8080/"
        },
        "id": "nM_p9U4pxf6t",
        "outputId": "176899e9-a5d9-450e-f5f4-b2af242806bb"
      },
      "source": [
        "#checking missing values for all the columns in the dataframe\n",
        "df.isnull().sum().sort_values( ascending=False)\n",
        "# No missing values"
      ],
      "execution_count": 8,
      "outputs": [
        {
          "output_type": "execute_result",
          "data": {
            "text/plain": [
              "fetal_health                                              0\n",
              "histogram_tendency                                        0\n",
              "accelerations                                             0\n",
              "fetal_movement                                            0\n",
              "uterine_contractions                                      0\n",
              "light_decelerations                                       0\n",
              "severe_decelerations                                      0\n",
              "prolongued_decelerations                                  0\n",
              "abnormal_short_term_variability                           0\n",
              "mean_value_of_short_term_variability                      0\n",
              "percentage_of_time_with_abnormal_long_term_variability    0\n",
              "mean_value_of_long_term_variability                       0\n",
              "histogram_width                                           0\n",
              "histogram_min                                             0\n",
              "histogram_max                                             0\n",
              "histogram_number_of_peaks                                 0\n",
              "histogram_number_of_zeroes                                0\n",
              "histogram_mode                                            0\n",
              "histogram_mean                                            0\n",
              "histogram_median                                          0\n",
              "histogram_variance                                        0\n",
              "baseline value                                            0\n",
              "dtype: int64"
            ]
          },
          "metadata": {
            "tags": []
          },
          "execution_count": 8
        }
      ]
    },
    {
      "cell_type": "code",
      "metadata": {
        "id": "g5u9YX-UyyCE"
      },
      "source": [
        "#Assigning input variables to X by excluding target column\n",
        "X = df.drop('fetal_health', axis=1)\n",
        "\n",
        "#Assigning target variables to Y\n",
        "Y = df['fetal_health']"
      ],
      "execution_count": 9,
      "outputs": []
    },
    {
      "cell_type": "code",
      "metadata": {
        "id": "pfLKdaiczD4Y"
      },
      "source": [
        "# StandardScale the data\n",
        "# import StandardScaler function\n",
        "from sklearn.preprocessing import StandardScaler\n",
        "\n",
        "# also try MinMaxScaler\n",
        "scaler = StandardScaler()\n",
        "\n",
        "#fit the model\n",
        "scaler.fit(X)\n",
        "\n",
        "#scaled data by performing standardizations\n",
        "scaled_data = scaler.transform(X)\n",
        "\n",
        "#creating data frame from scaled_data array\n",
        "scaled_data2 = pd.DataFrame(scaled_data,columns=X.columns,index=X.index)"
      ],
      "execution_count": 10,
      "outputs": []
    },
    {
      "cell_type": "code",
      "metadata": {
        "id": "AUgPwFxazL0R"
      },
      "source": [
        "# Assigning scaled data to variable X1 by excluding target column\n",
        "X1 = scaled_data2\n",
        "\n",
        "\n",
        "# Convert target Y to one hot encoded Y for Neural Network\n",
        "Y1 = pd.get_dummies(Y)"
      ],
      "execution_count": 11,
      "outputs": []
    },
    {
      "cell_type": "code",
      "metadata": {
        "colab": {
          "base_uri": "https://localhost:8080/"
        },
        "id": "e_Wi1llj_RMw",
        "outputId": "9990b4f6-11ce-40b5-d198-566f7bf43345"
      },
      "source": [
        "# Dataset is split into training by 80% and testing  with 20% \n",
        "from sklearn.model_selection import train_test_split\n",
        "\n",
        "X_train, X_test, Y_train, Y_test = train_test_split(X1, Y1, test_size = 0.20, random_state = 0)\n",
        "\n",
        "# converting train data set to array values for the model input\n",
        "X_train = X_train.values\n",
        "# converting train data set to array values for the model input\n",
        "X_test = X_test.values\n",
        "\n",
        "\n",
        "# Examine the train and test dataset sizes\n",
        "X_train.shape, X_test.shape"
      ],
      "execution_count": 12,
      "outputs": [
        {
          "output_type": "execute_result",
          "data": {
            "text/plain": [
              "((1700, 21), (426, 21))"
            ]
          },
          "metadata": {
            "tags": []
          },
          "execution_count": 12
        }
      ]
    },
    {
      "cell_type": "code",
      "metadata": {
        "colab": {
          "base_uri": "https://localhost:8080/"
        },
        "id": "vzqZwmyuLRF0",
        "outputId": "41c451ee-3533-4e93-8325-2dc1e7989f04"
      },
      "source": [
        "# Examine the train and test dataset sizes\n",
        "Y_train.shape, Y_test.shape"
      ],
      "execution_count": 13,
      "outputs": [
        {
          "output_type": "execute_result",
          "data": {
            "text/plain": [
              "((1700, 3), (426, 3))"
            ]
          },
          "metadata": {
            "tags": []
          },
          "execution_count": 13
        }
      ]
    },
    {
      "cell_type": "code",
      "metadata": {
        "id": "rI-FJckl9L6v"
      },
      "source": [
        "# importing functions from keras package\n",
        "from keras import models\n",
        "from keras.layers import Dense, Dropout\n",
        "#from keras.utils import to_categorical\n",
        "#from keras.utils.vis_utils import model_to_dot\n",
        "#from IPython.display import SVG"
      ],
      "execution_count": 14,
      "outputs": []
    },
    {
      "cell_type": "code",
      "metadata": {
        "id": "ElPj40Zh-skI"
      },
      "source": [
        "# creating sequential model with 15 neurons in the input layer,15 hidden layer and 3 in the output layer\n",
        "model = models.Sequential()\n",
        "model.add(Dense(15, activation='relu', input_dim = 21 ) )\n",
        "model.add(Dense(15, activation='relu'))\n",
        "model.add(Dense(3, activation='softmax'))\n",
        "\n",
        "# compile sequential neuron model with adam optimizer and accuracy as metrics\n",
        "model.compile(optimizer='adam', \n",
        "                  loss='categorical_crossentropy',\n",
        "                  metrics=['accuracy']\n",
        "                 )\n",
        "\n",
        "# creating validation data using top 180 rows\n",
        "X_val = X_train[:180]\n",
        "Y_val = Y_train[:180]\n",
        "\n",
        "# Assigning remaining data to train set\n",
        "X_train_cut = X_train[180:]\n",
        "Y_train_cut = Y_train[180:]\n",
        "\n",
        "# Fitting the model with 50 epochs and 10 batch sizes\n",
        "history = model.fit(X_train, Y_train, \n",
        "                        epochs=50,\n",
        "                        batch_size=10,\n",
        "                    validation_data = (X_val, Y_val),verbose=0\n",
        "                       )"
      ],
      "execution_count": 15,
      "outputs": []
    },
    {
      "cell_type": "code",
      "metadata": {
        "colab": {
          "base_uri": "https://localhost:8080/"
        },
        "id": "aTwZxE_a4ZZU",
        "outputId": "4197a05f-02b1-4b25-8bac-1e6bc8a3f4b3"
      },
      "source": [
        "# evaluating results on the test data set\n",
        "result = model.evaluate(X_test, Y_test)\n",
        "result"
      ],
      "execution_count": 16,
      "outputs": [
        {
          "output_type": "stream",
          "text": [
            "14/14 [==============================] - 0s 1ms/step - loss: 0.2783 - accuracy: 0.9108\n"
          ],
          "name": "stdout"
        },
        {
          "output_type": "execute_result",
          "data": {
            "text/plain": [
              "[0.2783140540122986, 0.9107981324195862]"
            ]
          },
          "metadata": {
            "tags": []
          },
          "execution_count": 16
        }
      ]
    },
    {
      "cell_type": "code",
      "metadata": {
        "id": "bEYFu7HACcGj"
      },
      "source": [
        "from sklearn.metrics import confusion_matrix, precision_score, recall_score, f1_score, cohen_kappa_score\n",
        "# predicting the model on test data\n",
        "y_pred = model.predict(X_test)\n",
        "\n"
      ],
      "execution_count": 17,
      "outputs": []
    },
    {
      "cell_type": "code",
      "metadata": {
        "colab": {
          "base_uri": "https://localhost:8080/"
        },
        "id": "I7DS8MasGmYf",
        "outputId": "2fbea4d2-25a6-482d-e4db-9880756c3472"
      },
      "source": [
        "# arranging data for confusion matrix by converting to ssingle value\n",
        "predicted = np.argmax(y_pred, axis=1)\n",
        "test = Y_test.values.argmax(axis=1)\n",
        "# printing confusion matrix\n",
        "confusion_matrix(test,predicted)\n",
        "\n",
        "\n"
      ],
      "execution_count": 18,
      "outputs": [
        {
          "output_type": "execute_result",
          "data": {
            "text/plain": [
              "array([[312,  13,   1],\n",
              "       [ 11,  46,   1],\n",
              "       [  6,   6,  30]])"
            ]
          },
          "metadata": {
            "tags": []
          },
          "execution_count": 18
        }
      ]
    },
    {
      "cell_type": "code",
      "metadata": {
        "colab": {
          "base_uri": "https://localhost:8080/",
          "height": 1000
        },
        "id": "lzPD2bc_5T49",
        "outputId": "531763f9-4408-40ec-cd31-d62b25de2f4d"
      },
      "source": [
        "# Assigning the loss values at different epochs\n",
        "loss = history.history['loss']\n",
        "val_loss = history.history['val_loss']\n",
        "\n",
        "# Assigning the accuracy values at different epochs   \n",
        "accuracy = history.history['accuracy']\n",
        "val_accuracy = history.history['val_accuracy']\n",
        "\n",
        "# Assigning the metrics values at different epochs      \n",
        "metrics = history.history['accuracy']\n",
        "epochs = range(1, len(metrics) + 1) \n",
        "\n",
        "# plotting training and validation loss at different epochs\n",
        "plt.figure(figsize=(15,8))\n",
        "plt.plot(epochs, loss, color='tab:blue', linestyle='-', linewidth=2, marker='*', label='Training loss')\n",
        "plt.plot(epochs, val_loss, color='tab:orange', linestyle='-', marker='o', label='Validaion loss')\n",
        "plt.title('Training and validation loss [model | {:.2f}]'.format(result[0]), fontsize=16)\n",
        "plt.xlabel('Epoch', fontsize=16)\n",
        "plt.ylabel('Loss', fontsize=16)\n",
        "plt.legend(loc='upper right', fontsize='x-large')\n",
        "plt.tick_params(labelsize=14)\n",
        "plt.show()\n",
        "plt.clf()\n",
        "\n",
        "# plotting training and validation accuracy at different epochs    \n",
        "plt.figure(figsize=(15,8))\n",
        "plt.plot(epochs, accuracy, color='tab:blue', linestyle='-', linewidth=2, marker='*', label='Training accuracy')\n",
        "plt.plot(epochs, val_accuracy, color='tab:orange', linestyle='-', marker='o', label='Validaion accuracy')\n",
        "plt.title('Training and validation accuracy [model  | {:.2f}]'.format(result[1]*100), fontsize=16)\n",
        "plt.xlabel('Epoch', fontsize=16)\n",
        "plt.ylabel('Accuracy', fontsize=16)\n",
        "plt.legend(loc='upper left', fontsize='x-large')\n",
        "plt.tick_params(labelsize=14)\n",
        "plt.show()\n",
        "plt.clf()"
      ],
      "execution_count": 19,
      "outputs": [
        {
          "output_type": "display_data",
          "data": {
            "image/png": "[encoded data removed]",
            "text/plain": [
              "<Figure size 1080x576 with 1 Axes>"
            ]
          },
          "metadata": {
            "tags": [],
            "needs_background": "light"
          }
        },
        {
          "output_type": "display_data",
          "data": {
            "text/plain": [
              "<Figure size 432x288 with 0 Axes>"
            ]
          },
          "metadata": {
            "tags": []
          }
        },
        {
          "output_type": "display_data",
          "data": {
            "image/png": "[encoded data removed]",
            "text/plain": [
              "<Figure size 1080x576 with 1 Axes>"
            ]
          },
          "metadata": {
            "tags": [],
            "needs_background": "light"
          }
        },
        {
          "output_type": "display_data",
          "data": {
            "text/plain": [
              "<Figure size 432x288 with 0 Axes>"
            ]
          },
          "metadata": {
            "tags": []
          }
        }
      ]
    },
    {
      "cell_type": "code",
      "metadata": {
        "colab": {
          "base_uri": "https://localhost:8080/"
        },
        "id": "fqmxxj2RAN_W",
        "outputId": "0ee398cf-a305-4504-d7f8-0693724e4fc5"
      },
      "source": [
        "# running k fold cross validation\n",
        "# Object to describe the result\n",
        "from sklearn.model_selection import cross_val_score\n",
        "from sklearn.model_selection import KFold\n",
        "def baseline_model():\n",
        "    # Create model here\n",
        "    model = models.Sequential()\n",
        "    model.add(Dense(15, input_dim = 21, activation = 'relu')) # Rectified Linear Unit Activation Function\n",
        "    model.add(Dense(15, activation = 'relu'))\n",
        "    model.add(Dense(3, activation = 'softmax')) # Softmax for multi-class classification\n",
        "    # Compile model here\n",
        "    model.compile(loss = 'categorical_crossentropy', optimizer = 'adam', metrics = ['accuracy'])\n",
        "    return model\n",
        "# KFold Cross Validation\n",
        "kfold = KFold(n_splits = 5, shuffle = True)\n",
        "from keras.wrappers.scikit_learn import KerasClassifier\n",
        "\n",
        "\n",
        "estimator = KerasClassifier(build_fn = baseline_model, epochs = 50, batch_size = 10, verbose = 0)\n",
        "# Try different values of splits e.g., 10\n",
        "results = cross_val_score(estimator, X1, Y1, cv = kfold)\n",
        "# Result\n",
        "print(\"Result: %.2f%% (%.2f%%)\" % (results.mean()*100, results.std()*100))"
      ],
      "execution_count": 20,
      "outputs": [
        {
          "output_type": "stream",
          "text": [
            "Result: 91.02% (0.69%)\n"
          ],
          "name": "stdout"
        }
      ]
    },
    {
      "cell_type": "code",
      "metadata": {
        "colab": {
          "base_uri": "https://localhost:8080/"
        },
        "id": "WppO4qO9DT7z",
        "outputId": "9570e27a-afc2-4f0d-eeb0-63a8bcc07cdc"
      },
      "source": [
        "# created model with 2 hidden layers\n",
        "# Object to describe the result\n",
        "from sklearn.model_selection import cross_val_score\n",
        "from sklearn.model_selection import KFold\n",
        "def baseline_model():\n",
        "    # Create model here\n",
        "    model = models.Sequential()\n",
        "    model.add(Dense(15, input_dim = 21, activation = 'relu')) # Rectified Linear Unit Activation Function\n",
        "    model.add(Dense(15, activation = 'relu'))\n",
        "    model.add(Dense(15, activation = 'relu'))\n",
        "    model.add(Dense(3, activation = 'softmax')) # Softmax for multi-class classification\n",
        "    # Compile model here\n",
        "    model.compile(loss = 'categorical_crossentropy', optimizer = 'adam', metrics = ['accuracy'])\n",
        "    return model\n",
        "# KFold Cross Validation\n",
        "kfold = KFold(n_splits = 5, shuffle = True)\n",
        "from keras.wrappers.scikit_learn import KerasClassifier\n",
        "\n",
        "\n",
        "estimator = KerasClassifier(build_fn = baseline_model, epochs = 50, batch_size = 10, verbose = 0)\n",
        "# Try different values of splits e.g., 10\n",
        "results = cross_val_score(estimator, X1, Y1, cv = kfold)\n",
        "# Result\n",
        "print(\"Result: %.2f%% (%.2f%%)\" % (results.mean()*100, results.std()*100))\n",
        "   \n",
        "    "
      ],
      "execution_count": 21,
      "outputs": [
        {
          "output_type": "stream",
          "text": [
            "Result: 91.11% (1.41%)\n"
          ],
          "name": "stdout"
        }
      ]
    },
    {
      "cell_type": "code",
      "metadata": {
        "colab": {
          "base_uri": "https://localhost:8080/"
        },
        "id": "aik2rQhkGQEc",
        "outputId": "d8d7d472-03cd-45a2-c303-315fb5ffcef0"
      },
      "source": [
        "# created model with 3 hidden layers\n",
        "# Object to describe the result\n",
        "from sklearn.model_selection import cross_val_score\n",
        "from sklearn.model_selection import KFold\n",
        "def baseline_model():\n",
        "    # Create model here\n",
        "    model = models.Sequential()\n",
        "    model.add(Dense(15, input_dim = 21, activation = 'relu')) # Rectified Linear Unit Activation Function\n",
        "    model.add(Dense(15, activation = 'relu'))\n",
        "    model.add(Dense(15, activation = 'relu'))\n",
        "    model.add(Dense(15, activation = 'relu'))\n",
        "    model.add(Dense(3, activation = 'softmax')) # Softmax for multi-class classification\n",
        "    # Compile model here\n",
        "    model.compile(loss = 'categorical_crossentropy', optimizer = 'adam', metrics = ['accuracy'])\n",
        "    return model\n",
        "# KFold Cross Validation\n",
        "kfold = KFold(n_splits = 5, shuffle = True)\n",
        "from keras.wrappers.scikit_learn import KerasClassifier\n",
        "\n",
        "\n",
        "estimator = KerasClassifier(build_fn = baseline_model, epochs = 50, batch_size = 10, verbose = 0)\n",
        "# Try different values of splits e.g., 10\n",
        "results = cross_val_score(estimator, X1, Y1, cv = kfold)\n",
        "# Result\n",
        "print(\"Result: %.2f%% (%.2f%%)\" % (results.mean()*100, results.std()*100))"
      ],
      "execution_count": 22,
      "outputs": [
        {
          "output_type": "stream",
          "text": [
            "Result: 91.67% (0.63%)\n"
          ],
          "name": "stdout"
        }
      ]
    },
    {
      "cell_type": "code",
      "metadata": {
        "colab": {
          "base_uri": "https://localhost:8080/"
        },
        "id": "ubCETON8Gs0t",
        "outputId": "ef2e5fe7-97df-4c03-8248-80da3e0e1186"
      },
      "source": [
        "# created model with 1 hidden layer of 25 neurons\n",
        "# Object to describe the result\n",
        "from sklearn.model_selection import cross_val_score\n",
        "from sklearn.model_selection import KFold\n",
        "def baseline_model():\n",
        "    # Create model here\n",
        "    model = models.Sequential()\n",
        "    model.add(Dense(15, input_dim = 21, activation = 'relu')) # Rectified Linear Unit Activation Function\n",
        "    model.add(Dense(25, activation = 'relu'))\n",
        "    model.add(Dense(3, activation = 'softmax')) # Softmax for multi-class classification\n",
        "    # Compile model here\n",
        "    model.compile(loss = 'categorical_crossentropy', optimizer = 'adam', metrics = ['accuracy'])\n",
        "    return model\n",
        "# KFold Cross Validation\n",
        "kfold = KFold(n_splits = 5, shuffle = True)\n",
        "from keras.wrappers.scikit_learn import KerasClassifier\n",
        "\n",
        "\n",
        "estimator = KerasClassifier(build_fn = baseline_model, epochs = 50, batch_size = 10, verbose = 0)\n",
        "# Try different values of splits e.g., 10\n",
        "results = cross_val_score(estimator, X1, Y1, cv = kfold)\n",
        "# Result\n",
        "print(\"Result: %.2f%% (%.2f%%)\" % (results.mean()*100, results.std()*100))"
      ],
      "execution_count": 23,
      "outputs": [
        {
          "output_type": "stream",
          "text": [
            "Result: 92.10% (0.43%)\n"
          ],
          "name": "stdout"
        }
      ]
    },
    {
      "cell_type": "code",
      "metadata": {
        "colab": {
          "base_uri": "https://localhost:8080/"
        },
        "id": "1UEpFSMUHG2L",
        "outputId": "70b5e5ba-c130-4e2f-8a6c-7a6f7b32ea9c"
      },
      "source": [
        "# created model with 1 hidden layer with 35 neurons\n",
        "# Object to describe the result\n",
        "from sklearn.model_selection import cross_val_score\n",
        "from sklearn.model_selection import KFold\n",
        "def baseline_model():\n",
        "    # Create model here\n",
        "    model = models.Sequential()\n",
        "    model.add(Dense(15, input_dim = 21, activation = 'relu')) # Rectified Linear Unit Activation Function\n",
        "    model.add(Dense(35, activation = 'relu'))\n",
        "    model.add(Dense(3, activation = 'softmax')) # Softmax for multi-class classification\n",
        "    # Compile model here\n",
        "    model.compile(loss = 'categorical_crossentropy', optimizer = 'adam', metrics = ['accuracy'])\n",
        "    return model\n",
        "# KFold Cross Validation\n",
        "kfold = KFold(n_splits = 5, shuffle = True)\n",
        "from keras.wrappers.scikit_learn import KerasClassifier\n",
        "\n",
        "\n",
        "estimator = KerasClassifier(build_fn = baseline_model, epochs = 50, batch_size = 10, verbose = 0)\n",
        "# Try different values of splits e.g., 10\n",
        "results = cross_val_score(estimator, X1, Y1, cv = kfold)\n",
        "# Result\n",
        "print(\"Result: %.2f%% (%.2f%%)\" % (results.mean()*100, results.std()*100))"
      ],
      "execution_count": 24,
      "outputs": [
        {
          "output_type": "stream",
          "text": [
            "Result: 91.82% (0.23%)\n"
          ],
          "name": "stdout"
        }
      ]
    },
    {
      "cell_type": "code",
      "metadata": {
        "colab": {
          "base_uri": "https://localhost:8080/"
        },
        "id": "8QmXoOADHrIi",
        "outputId": "a981cca7-8c62-4c1b-e441-71a02d934e58"
      },
      "source": [
        "# created model with 1 hidden layer and ran with 100 epochs and batch size 10\n",
        "# Object to describe the result\n",
        "from sklearn.model_selection import cross_val_score\n",
        "from sklearn.model_selection import KFold\n",
        "def baseline_model():\n",
        "    # Create model here\n",
        "    model = models.Sequential()\n",
        "    model.add(Dense(15, input_dim = 21, activation = 'relu')) # Rectified Linear Unit Activation Function\n",
        "    model.add(Dense(15, activation = 'relu'))\n",
        "    model.add(Dense(3, activation = 'softmax')) # Softmax for multi-class classification\n",
        "    # Compile model here\n",
        "    model.compile(loss = 'categorical_crossentropy', optimizer = 'adam', metrics = ['accuracy'])\n",
        "    return model\n",
        "# KFold Cross Validation\n",
        "kfold = KFold(n_splits = 5, shuffle = True)\n",
        "from keras.wrappers.scikit_learn import KerasClassifier\n",
        "\n",
        "\n",
        "estimator = KerasClassifier(build_fn = baseline_model, epochs = 100, batch_size = 10, verbose = 0)\n",
        "# Try different values of splits e.g., 10\n",
        "results = cross_val_score(estimator, X1, Y1, cv = kfold)\n",
        "# Result\n",
        "print(\"Result: %.2f%% (%.2f%%)\" % (results.mean()*100, results.std()*100))"
      ],
      "execution_count": 25,
      "outputs": [
        {
          "output_type": "stream",
          "text": [
            "Result: 92.33% (0.77%)\n"
          ],
          "name": "stdout"
        }
      ]
    },
    {
      "cell_type": "code",
      "metadata": {
        "colab": {
          "base_uri": "https://localhost:8080/"
        },
        "id": "qn9expbW9IZq",
        "outputId": "f0b5345c-fbb1-49a9-f3ea-532b001ec618"
      },
      "source": [
        "# created model with 1 hidden layer and ran with 100 epochs and batch size 20\n",
        "# Object to describe the result\n",
        "from sklearn.model_selection import cross_val_score\n",
        "from sklearn.model_selection import KFold\n",
        "def baseline_model():\n",
        "    # Create model here\n",
        "    model = models.Sequential()\n",
        "    model.add(Dense(15, input_dim = 21, activation = 'relu')) # Rectified Linear Unit Activation Function\n",
        "    model.add(Dense(15, activation = 'relu'))\n",
        "    model.add(Dense(3, activation = 'softmax')) # Softmax for multi-class classification\n",
        "    # Compile model here\n",
        "    model.compile(loss = 'categorical_crossentropy', optimizer = 'adam', metrics = ['accuracy'])\n",
        "    return model\n",
        "# KFold Cross Validation\n",
        "kfold = KFold(n_splits = 5, shuffle = True)\n",
        "from keras.wrappers.scikit_learn import KerasClassifier\n",
        "\n",
        "\n",
        "estimator = KerasClassifier(build_fn = baseline_model, epochs = 100, batch_size = 20, verbose = 0)\n",
        "# Try different values of splits e.g., 10\n",
        "results = cross_val_score(estimator, X1, Y1, cv = kfold)\n",
        "# Result\n",
        "print(\"Result: %.2f%% (%.2f%%)\" % (results.mean()*100, results.std()*100))"
      ],
      "execution_count": 26,
      "outputs": [
        {
          "output_type": "stream",
          "text": [
            "Result: 91.77% (1.39%)\n"
          ],
          "name": "stdout"
        }
      ]
    },
    {
      "cell_type": "code",
      "metadata": {
        "colab": {
          "base_uri": "https://localhost:8080/"
        },
        "id": "OZEGqvjG9d43",
        "outputId": "f6dcef4a-b8f8-404b-8170-431a270eb42c"
      },
      "source": [
        "# created model with 1 hidden layer and ran with 50 epocs and batch size 20\n",
        "# Object to describe the result\n",
        "from sklearn.model_selection import cross_val_score\n",
        "from sklearn.model_selection import KFold\n",
        "def baseline_model():\n",
        "    # Create model here\n",
        "    model = models.Sequential()\n",
        "    model.add(Dense(15, input_dim = 21, activation = 'relu')) # Rectified Linear Unit Activation Function\n",
        "    model.add(Dense(15, activation = 'relu'))\n",
        "    model.add(Dense(3, activation = 'softmax')) # Softmax for multi-class classification\n",
        "    # Compile model here\n",
        "    model.compile(loss = 'categorical_crossentropy', optimizer = 'adam', metrics = ['accuracy'])\n",
        "    return model\n",
        "# KFold Cross Validation\n",
        "kfold = KFold(n_splits = 5, shuffle = True)\n",
        "from keras.wrappers.scikit_learn import KerasClassifier\n",
        "\n",
        "\n",
        "estimator = KerasClassifier(build_fn = baseline_model, epochs = 50, batch_size = 20, verbose = 0)\n",
        "# Try different values of splits e.g., 10\n",
        "results = cross_val_score(estimator, X1, Y1, cv = kfold)\n",
        "# Result\n",
        "print(\"Result: %.2f%% (%.2f%%)\" % (results.mean()*100, results.std()*100))"
      ],
      "execution_count": 27,
      "outputs": [
        {
          "output_type": "stream",
          "text": [
            "Result: 90.12% (0.84%)\n"
          ],
          "name": "stdout"
        }
      ]
    },
    {
      "cell_type": "code",
      "metadata": {
        "colab": {
          "base_uri": "https://localhost:8080/"
        },
        "id": "4sJp1xpQ9wZF",
        "outputId": "fef36a4d-bac6-45b5-ceea-26f59524997e"
      },
      "source": [
        "# created model with 1 hidden layer and ran with 500 epochs and batch size 10\n",
        "# Object to describe the result\n",
        "from sklearn.model_selection import cross_val_score\n",
        "from sklearn.model_selection import KFold\n",
        "def baseline_model():\n",
        "    # Create model here\n",
        "    model = models.Sequential()\n",
        "    model.add(Dense(15, input_dim = 21, activation = 'relu')) # Rectified Linear Unit Activation Function\n",
        "    model.add(Dense(15, activation = 'relu'))\n",
        "    model.add(Dense(3, activation = 'softmax')) # Softmax for multi-class classification\n",
        "    # Compile model here\n",
        "    model.compile(loss = 'categorical_crossentropy', optimizer = 'adam', metrics = ['accuracy'])\n",
        "    return model\n",
        "# KFold Cross Validation\n",
        "kfold = KFold(n_splits = 5, shuffle = True)\n",
        "from keras.wrappers.scikit_learn import KerasClassifier\n",
        "\n",
        "\n",
        "estimator = KerasClassifier(build_fn = baseline_model, epochs = 500, batch_size = 10, verbose = 0)\n",
        "# Try different values of splits e.g., 10\n",
        "results = cross_val_score(estimator, X1, Y1, cv = kfold)\n",
        "# Result\n",
        "print(\"Result: %.2f%% (%.2f%%)\" % (results.mean()*100, results.std()*100))"
      ],
      "execution_count": 28,
      "outputs": [
        {
          "output_type": "stream",
          "text": [
            "Result: 91.82% (0.83%)\n"
          ],
          "name": "stdout"
        }
      ]
    },
    {
      "cell_type": "markdown",
      "metadata": {
        "id": "sdKz7L7CMm91"
      },
      "source": [
        "***Summary***\n",
        "\n",
        "Ran sequential neural network to classify fetal health into three classes based on features extracted from Cardiotocogram  \n",
        "\n",
        "***Correlation***\n",
        "prolonged_decelerations , abnormal_short_term_variability and percentage_of_time_with_abnormal_long_term_variability has highest correlation with fetal_health\n",
        "\n",
        "***Target distribution***\n",
        "Data is imbalanced with highest for class 1. We have coverted data to one hot encoding to fit into model\n",
        "\n",
        "***Data Cleaning***\n",
        "Data doesn't have any missing values. Data is standardized to model\n",
        "\n",
        "***sequnetial model***\n",
        "Built neural network model with 1 hidden layer and got accuracy of 91% , even the crossvalidated model gave  91% accuracy. Plotted the accuracy and loss at differnet epocs\n",
        "\n",
        "**experimenting the neurons and layers**\n",
        "Tried experimenting with different hidden layers, different neurons, different epocs and batch size and found the model with one hidden layer, 25 neurons and 100 epocs. Adding hidden layers didn't improve the results.\n",
        "\n",
        "\n",
        "\n",
        "\n",
        "\n",
        "\n",
        "\n"
      ]
    }
  ]
}